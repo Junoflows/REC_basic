{
 "cells": [
  {
   "cell_type": "markdown",
   "metadata": {},
   "source": [
    "추천을 위한 알고리즘을 분류해보면 크게 메모리 기반과 모델 기반으로 나눌 수 있다."
   ]
  },
  {
   "cell_type": "markdown",
   "metadata": {},
   "source": [
    "메모리 기반 추천 : 추천을 위한 데이터를 모두 메모리에 가지고 있으면서 추천이 필요할 때마다 이 데이터를 사용해서 계산을 해서 추천하는 방식  \n",
    "모델 기반 추천 : 데이터로부터 추천을 위한 모델을 구성한 후 이 모델만 저장하고, 실제 추천을 할 때에는 이 모델을 사용해서 추천을 하는 방식"
   ]
  },
  {
   "cell_type": "markdown",
   "metadata": {},
   "source": [
    "메모리 기반 추천은 원래 데이터를 충실하게 사용하는 장점이 있지만 대량의 데이터를 다뤄야 하는 상용 사이트에서 계신시간이 너무 오래걸린다는 단점이 있다.\n",
    "<br/>\n",
    "모델 기반 추천 방식은 데이터는 모형을 만드는 데만 사용하고 모델이 만들어지면 원래 데이터는 사용하지 않기 때문에 대규모 사용 사이트에서 필요한 빠른 반응이 가능하지만 모델을 만드는 과정에서 많은 계산이 필요하다."
   ]
  },
  {
   "cell_type": "markdown",
   "metadata": {},
   "source": [
    "일반적으로 메모리 기반 추천은 개별 사용자의 데이터에 집중하고, 모델 기반 추천은 전체 사용자의 평가 패턴으로부터 모델을 구성하기 때문에 데이터가 가지고 있는 약한 신호도 더 잘 잡아내는 장점이 있다.\n",
    "<br/>\n",
    "이번 장에서는 대표적인 모델 기반 추천 알고리즘인 MF 방식 추천에 대해 알아보기로 한다."
   ]
  },
  {
   "cell_type": "markdown",
   "metadata": {},
   "source": [
    "### 4.1 Matrix Factorization 방식의 원리"
   ]
  },
  {
   "cell_type": "markdown",
   "metadata": {},
   "source": [
    "(사용자 X 아이템) 으로 구성된 하나의 행렬을 2개의 행렬로 분해하는 방법이다.  \n",
    "앞서 CF 를 구현할 때 사용한 full matrix 는 (사용자 X 아이템) 형태의 2차원 행렬이다.  \n",
    "이를 사용자 잠재요인행렬과 아이템 잠재요인행렬로 나눌 수 있다."
   ]
  },
  {
   "cell_type": "markdown",
   "metadata": {},
   "source": [
    "<img src = 'https://velog.velcdn.com/images/sangyun/post/07d390cb-b5b2-4ece-a095-b60a2805af8a/image.png' width = 600 height = 300>"
   ]
  },
  {
   "cell_type": "markdown",
   "metadata": {},
   "source": [
    "R 행렬을 사용자행렬P와 아이템행렬Q로 쪼개어 분석하는 것이 MF 방식이다.  \n",
    "P, Q 행렬에서 공통인 K개의 요인을 잠재요인으로 부르는데 사용자와 아이템의 특성을 K개의 잠재요인을 사용해서 분석하는 것이 MF 방식의 원리이다."
   ]
  },
  {
   "cell_type": "markdown",
   "metadata": {},
   "source": [
    "### 4.2 SGD를 사용한 MF 알고리즘"
   ]
  },
  {
   "cell_type": "markdown",
   "metadata": {},
   "source": [
    "MF의 핵심은 주어진 사용자, 아이템의 관계를 가장 잘 설명하는 P, Q 행렬을 분해하는 것이다.  \n",
    "주어진 (사용자X아이템) 평점 행렬인 R로부터 P,Q를 분해하는 알고리즘을 개념적으로 설명하면 다음과 같다.\n",
    "1. 잠재요인의 개수 K를 정한다. K는 경험에 의한 직관적으로 정해도 되고, 다양한 K를 비교하면서 최적의 수를 정해도 된다.\n",
    "2. 주어진 K에 따라 P, Q 행렬을 만들고 초기화한다.\n",
    "3. 주어진 P,Q 행렬을 사용해 예측 평점을 구한다.\n",
    "4. 실제 평점과 예측 평점을 비교해서 오차를 구하고, 이 오차를 줄이기 위해 P,Q 를 수정한다.\n",
    "5. 전체 오차가 미리 정해진 기준값 이하가 되거나 미리 정해진 반복 횟수에 도달할 떄까지 3으로 돌아가서 반복한다."
   ]
  },
  {
   "cell_type": "markdown",
   "metadata": {},
   "source": [
    "여기서 핵심은 4에서 예측 오차를 줄이기 위해 어떻게 수정하는가이다.  \n",
    "가장 일반적인 방법은 기계학습에서 많이 사용되는 SGD 방법을 적용하는 것이다."
   ]
  },
  {
   "cell_type": "markdown",
   "metadata": {},
   "source": [
    "SGD 방법을 적용하는 자세한 내용은 아래 링크 참조하자.  \n",
    "https://bladejun.tistory.com/57"
   ]
  },
  {
   "cell_type": "markdown",
   "metadata": {},
   "source": [
    "### 4.3 SGD를 사용한 MF 기본 알고리즘"
   ]
  },
  {
   "cell_type": "code",
   "execution_count": 1,
   "metadata": {},
   "outputs": [],
   "source": [
    "import numpy as np\n",
    "import pandas as pd\n",
    "\n",
    "r_cols = ['user_id', 'movie_id', 'rating', 'timestamp']\n",
    "ratings = pd.read_csv('./data/u.data', names=r_cols,  sep='\\t',encoding='latin-1')\n",
    "ratings = ratings[['user_id', 'movie_id', 'rating']].astype(int)"
   ]
  },
  {
   "cell_type": "code",
   "execution_count": 2,
   "metadata": {},
   "outputs": [
    {
     "name": "stdout",
     "output_type": "stream",
     "text": [
      "Iteration: 10 ; Train RMSE = 0.8837 \n",
      "Iteration: 20 ; Train RMSE = 0.7089 \n",
      "Iteration: 30 ; Train RMSE = 0.5924 \n",
      "Iteration: 40 ; Train RMSE = 0.5403 \n",
      "Iteration: 50 ; Train RMSE = 0.5130 \n",
      "Iteration: 60 ; Train RMSE = 0.4962 \n",
      "Iteration: 70 ; Train RMSE = 0.4852 \n",
      "Iteration: 80 ; Train RMSE = 0.4773 \n",
      "Iteration: 90 ; Train RMSE = 0.4715 \n",
      "Iteration: 100 ; Train RMSE = 0.4669 \n"
     ]
    }
   ],
   "source": [
    "# MF class\n",
    "class MF():\n",
    "    def __init__(self, ratings, K, alpha, beta, iterations, verbose=True):\n",
    "        self.R = np.array(ratings)\n",
    "        self.num_users, self.num_items = np.shape(self.R)\n",
    "        self.K = K\n",
    "        self.alpha = alpha\n",
    "        self.beta = beta\n",
    "        self.iterations = iterations\n",
    "        self.verbose = verbose\n",
    "\n",
    "    # RMSE 계산\n",
    "    def rmse(self):\n",
    "        xs, ys = self.R.nonzero()\n",
    "        self.predictions = []\n",
    "        self.errors = []\n",
    "        for x, y in zip(xs, ys):\n",
    "            prediction = self.get_prediction(x, y)\n",
    "            self.predictions.append(prediction)\n",
    "            self.errors.append(self.R[x, y] - prediction)\n",
    "        self.predictions = np.array(self.predictions)\n",
    "        self.errors = np.array(self.errors)\n",
    "        return np.sqrt(np.mean(self.errors**2))\n",
    "\n",
    "    def train(self): \n",
    "        # Initializing user-feature and item-feature matrix\n",
    "        self.P = np.random.normal(scale=1./self.K, size=(self.num_users, self.K))\n",
    "        self.Q = np.random.normal(scale=1./self.K, size=(self.num_items, self.K))\n",
    "\n",
    "        # Initializing the bias terms\n",
    "        self.b_u = np.zeros(self.num_users)\n",
    "        self.b_d = np.zeros(self.num_items)\n",
    "        self.b = np.mean(self.R[self.R.nonzero()])\n",
    "\n",
    "        # List of training samples\n",
    "        rows, columns = self.R.nonzero()\n",
    "        self.samples = [(i, j, self.R[i,j]) for i, j in zip(rows, columns)]\n",
    "\n",
    "        # SGD for given number of iterations\n",
    "        training_process = []\n",
    "        for i in range(self.iterations):\n",
    "            np.random.shuffle(self.samples)\n",
    "            self.sgd()\n",
    "            rmse = self.rmse()\n",
    "            training_process.append((i+1, rmse))\n",
    "            if self.verbose:\n",
    "                if (i+1) % 10 == 0:\n",
    "                    print(\"Iteration: %d ; Train RMSE = %.4f \" % (i+1, rmse))\n",
    "        return training_process\n",
    "\n",
    "    # Rating prediction for user i and item j\n",
    "    def get_prediction(self, i, j):\n",
    "        prediction = self.b + self.b_u[i] + self.b_d[j] + self.P[i, :].dot(self.Q[j, :].T)\n",
    "        return prediction\n",
    "\n",
    "    # SGD to get optimized P and Q matrix\n",
    "    def sgd(self):\n",
    "        for i, j, r in self.samples:\n",
    "            prediction = self.get_prediction(i, j)\n",
    "            e = (r - prediction)\n",
    "\n",
    "            self.b_u[i] += self.alpha * (e - self.beta * self.b_u[i])\n",
    "            self.b_d[j] += self.alpha * (e - self.beta * self.b_d[j])\n",
    "\n",
    "            self.P[i, :] += self.alpha * (e * self.Q[j, :] - self.beta * self.P[i,:])\n",
    "            self.Q[j, :] += self.alpha * (e * self.P[i, :] - self.beta * self.Q[j,:])\n",
    "\n",
    "\n",
    "# 전체 데이터 사용 MF\n",
    "R_temp = ratings.pivot(index='user_id', columns='movie_id', values='rating').fillna(0)\n",
    "mf = MF(R_temp, K=30, alpha=0.01, beta=0.02, iterations=100, verbose=True)\n",
    "train_process = mf.train()"
   ]
  },
  {
   "cell_type": "markdown",
   "metadata": {},
   "source": [
    "결과가 좋게 나오는데 train/test set 을 나누지 않으므로 당연한 결과라고 할 수 있다."
   ]
  },
  {
   "cell_type": "markdown",
   "metadata": {},
   "source": [
    "### 4.4 train test 분리 MF 알고리즘"
   ]
  },
  {
   "cell_type": "markdown",
   "metadata": {},
   "source": [
    "3장의 CF 와 마찬가지로 train/test set 분리하여 훈련한다.  \n",
    "차이점은 3장의 CF는 sklearn의 train_test_split 을 사용했는데 여기서는 sklearn 의 shuffle을 사용한다.  \n",
    "3장에서는 층화추출을 할 수 있지만 여기서는 무작위로 섞기 때문에 극단적인 경우 특정 사용자의 모든 데이터가 train이나 test set 한 곳에 들어갈 수 있다.  \n",
    "어떤 것을 사용할 지는 데이터분석의 목적에 따라서 선택하면 된다."
   ]
  },
  {
   "cell_type": "code",
   "execution_count": 4,
   "metadata": {},
   "outputs": [],
   "source": [
    "# train test 분리\n",
    "from sklearn.utils import shuffle\n",
    "TRAIN_SIZE = 0.75\n",
    "ratings = shuffle(ratings, random_state=42)\n",
    "cutoff = int(TRAIN_SIZE * len(ratings))\n",
    "ratings_train = ratings.iloc[:cutoff]\n",
    "ratings_test = ratings.iloc[cutoff:]"
   ]
  },
  {
   "cell_type": "code",
   "execution_count": 16,
   "metadata": {},
   "outputs": [],
   "source": [
    "# New MF class for training & testing\n",
    "class NEW_MF():\n",
    "    def __init__(self, ratings, K, alpha, beta, iterations, verbose = True):\n",
    "        self.R = np.array(ratings)\n",
    "        # user_id, item_id를 R의 index 와 매핑하기 위한 dictionary 생성\n",
    "        item_id_index = []\n",
    "        index_item_id = []\n",
    "        for i, one_id in enumerate(ratings):\n",
    "            item_id_index.append([one_id, i])\n",
    "            index_item_id.append([i, one_id])\n",
    "        self.item_id_index = dict(item_id_index)\n",
    "        self.index_id_item = dict(index_item_id)\n",
    "        user_id_index = []\n",
    "        index_user_id = []\n",
    "        for i, one_id in enumerate(ratings.T):\n",
    "            user_id_index.append([one_id, i])\n",
    "            index_user_id.append([i, one_id])\n",
    "        self.user_id_index = dict(user_id_index)\n",
    "        self.index_user_id = dict(index_user_id)\n",
    "\n",
    "        self.num_users, self.num_items = np.shape(self.R)\n",
    "        self.K = K\n",
    "        self.alpha = alpha\n",
    "        self.beta = beta\n",
    "        self.iterations = iterations\n",
    "        self.verbose = verbose\n",
    "\n",
    "    # train set 의 RMSE 계산\n",
    "    def rmse(self):\n",
    "        xs, ys = self.R.nonzero()\n",
    "        self.predictions = []\n",
    "        self.errors = []\n",
    "        for x, y in zip(xs, ys):\n",
    "            prediction = self.get_prediction(x,y)\n",
    "            self.predictions.append(prediction)\n",
    "            self.errors.append(self.R[x,y] - prediction)\n",
    "        self.predictions = np.array(self.predictions)\n",
    "        self.errors = np.array(self.errors)\n",
    "        return np.sqrt(np.mean(self.errors**2))\n",
    "        \n",
    "    # Ratings for user i and item j\n",
    "    def get_prediction(self, i, j):\n",
    "        prediction = self.b + self.b_u[i] + self.b_d[j] + self.P[i, :].dot(self.Q[j, :].T)\n",
    "        return prediction\n",
    "    \n",
    "    # SGD to get optimized P and Q matrix\n",
    "    def sgd(self):\n",
    "        for i, j, r in self.samples:\n",
    "            prediction = self.get_prediction(i, j)\n",
    "            e = (r - prediction)\n",
    "\n",
    "            self.b_u[i] += self.alpha * (e - self.beta * self.b_u[i])\n",
    "            self.b_d[j] += self.alpha * (e - self.beta * self.b_d[j])\n",
    "\n",
    "            self.P[i, :] += self.alpha * (e * self.Q[j, :] - self.beta * self.P[i,:])\n",
    "            self.Q[j, :] += self.alpha * (e * self.P[i, :] - self.beta * self.Q[j,:])\n",
    "\n",
    "    \n",
    "    # Test set 을 선정\n",
    "    def set_test(self, ratings_test):\n",
    "        test_set = []\n",
    "        for i in range(len(ratings_test)): # test 데이터에 있는 각 데이터에 대해서\n",
    "            x = self.user_id_index[ratings_test.iloc[i, 0]]\n",
    "            y = self.item_id_index[ratings_test.iloc[i, 1]]\n",
    "            z = ratings_test.iloc[i, 2]\n",
    "            test_set.append([x,y,z])\n",
    "            self.R[x,y] = 0 # setting test set ratings to 0\n",
    "        self.test_set = test_set\n",
    "        return test_set # Return test set\n",
    "\n",
    "    # Test set의 RMSE 계산\n",
    "    def test_rmse(self):\n",
    "        error = 0\n",
    "        for one_set in self.test_set:\n",
    "            predicted = self.get_prediction(one_set[0], one_set[1])\n",
    "            error += pow(one_set[2] - predicted, 2)\n",
    "        return np.sqrt(error / len(self.test_set))\n",
    "    \n",
    "    # Training 하면서 test set 의 정확도를 계산\n",
    "    def test(self):\n",
    "        # Initializing user-feature and item-feature matrix\n",
    "        self.P = np.random.normal(scale=1./self.K, size=(self.num_users, self.K))\n",
    "        self.Q = np.random.normal(scale=1./self.K, size=(self.num_items, self.K))\n",
    "\n",
    "        # Initializing the bias terms\n",
    "        self.b_u = np.zeros(self.num_users)\n",
    "        self.b_d = np.zeros(self.num_items)\n",
    "        self.b = np.mean(self.R[self.R.nonzero()])\n",
    "\n",
    "        # List of training samples\n",
    "        rows, columns = self.R.nonzero()\n",
    "        self.samples = [(i, j, self.R[i,j]) for i, j in zip(rows, columns)]\n",
    "\n",
    "        # Stochastic gradient descent for given number of iterations\n",
    "        training_process = []\n",
    "        for i in range(self.iterations):\n",
    "            np.random.shuffle(self.samples)\n",
    "            self.sgd()\n",
    "            rmse1 = self.rmse()\n",
    "            rmse2 = self.test_rmse()\n",
    "            training_process.append((i+1, rmse1, rmse2))\n",
    "            if self.verbose:\n",
    "                if (i+1) % 10 == 0:\n",
    "                    print(\"Iteration: %d ; Train RMSE = %.4f ; Test RMSE = %.4f\" % (i+1, rmse1, rmse2))\n",
    "        return training_process\n",
    "\n",
    "    # Ratings for given user_id and item_id\n",
    "    def get_one_prediction(self, user_id, item_id):\n",
    "        return self.get_prediction(self.user_id_index[user_id], self.item_id_index[item_id])\n",
    "\n",
    "    # Full user-movie rating matrix\n",
    "    def full_prediction(self):\n",
    "        return self.b + self.b_u[:,np.newaxis] + self.b_d[np.newaxis,:] + self.P.dot(self.Q.T)"
   ]
  },
  {
   "cell_type": "code",
   "execution_count": 17,
   "metadata": {},
   "outputs": [
    {
     "name": "stdout",
     "output_type": "stream",
     "text": [
      "Iteration: 10 ; Train RMSE = 0.9678 ; Test RMSE = 0.9781\n",
      "Iteration: 20 ; Train RMSE = 0.9426 ; Test RMSE = 0.9588\n",
      "Iteration: 30 ; Train RMSE = 0.9311 ; Test RMSE = 0.9512\n",
      "Iteration: 40 ; Train RMSE = 0.9242 ; Test RMSE = 0.9474\n",
      "Iteration: 50 ; Train RMSE = 0.9192 ; Test RMSE = 0.9452\n",
      "Iteration: 60 ; Train RMSE = 0.9152 ; Test RMSE = 0.9438\n",
      "Iteration: 70 ; Train RMSE = 0.9114 ; Test RMSE = 0.9427\n",
      "Iteration: 80 ; Train RMSE = 0.9072 ; Test RMSE = 0.9417\n",
      "Iteration: 90 ; Train RMSE = 0.9022 ; Test RMSE = 0.9405\n",
      "Iteration: 100 ; Train RMSE = 0.8957 ; Test RMSE = 0.9389\n"
     ]
    }
   ],
   "source": [
    "# Testing MF RMSE\n",
    "R_temp = ratings.pivot(index='user_id', columns='movie_id', values='rating').fillna(0)\n",
    "mf = NEW_MF(R_temp, K=30, alpha=0.001, beta=0.02, iterations=100, verbose=True)\n",
    "test_set = mf.set_test(ratings_test)\n",
    "result = mf.test()"
   ]
  },
  {
   "cell_type": "code",
   "execution_count": 18,
   "metadata": {},
   "outputs": [
    {
     "name": "stdout",
     "output_type": "stream",
     "text": [
      "[[3.83665804 3.33239295 3.21311212 ... 3.40627265 3.48089157 3.51967726]\n",
      " [4.02409366 3.51583752 3.31831102 ... 3.50442026 3.6210149  3.61919936]\n",
      " [3.25771844 2.71172472 2.51663725 ... 2.72739058 2.83967058 2.8385036 ]\n",
      " ...\n",
      " [4.2647238  3.70848446 3.50990559 ... 3.70895564 3.84126338 3.82485628]\n",
      " [4.41500302 3.88447175 3.68602581 ... 3.90041141 4.01516739 4.01293757]\n",
      " [3.73420802 3.29681902 3.07985555 ... 3.25602468 3.36415046 3.36816193]]\n",
      "\n",
      "3.3323929457051373\n"
     ]
    }
   ],
   "source": [
    "# Printing predictions\n",
    "print(mf.full_prediction())\n",
    "print()\n",
    "print(mf.get_one_prediction(1, 2))"
   ]
  },
  {
   "cell_type": "markdown",
   "metadata": {},
   "source": [
    "연습문제\n",
    "1. shuffle() 대신 train_test_split 을 사용하여 분리하도록 수정하고 실행해보자.\n",
    "2. 실행결과에서 RMSE가 많이 차이난다면 왜 차이가 발생했을 지 설명해보자."
   ]
  },
  {
   "cell_type": "code",
   "execution_count": 9,
   "metadata": {},
   "outputs": [],
   "source": [
    "r_cols = ['user_id', 'movie_id', 'rating', 'timestamp']\n",
    "ratings = pd.read_csv('./data/u.data', names=r_cols,  sep='\\t',encoding='latin-1')\n",
    "ratings = ratings[['user_id', 'movie_id', 'rating']].astype(int)"
   ]
  },
  {
   "cell_type": "code",
   "execution_count": 11,
   "metadata": {},
   "outputs": [
    {
     "data": {
      "text/html": [
       "<div>\n",
       "<style scoped>\n",
       "    .dataframe tbody tr th:only-of-type {\n",
       "        vertical-align: middle;\n",
       "    }\n",
       "\n",
       "    .dataframe tbody tr th {\n",
       "        vertical-align: top;\n",
       "    }\n",
       "\n",
       "    .dataframe thead th {\n",
       "        text-align: right;\n",
       "    }\n",
       "</style>\n",
       "<table border=\"1\" class=\"dataframe\">\n",
       "  <thead>\n",
       "    <tr style=\"text-align: right;\">\n",
       "      <th></th>\n",
       "      <th>user_id</th>\n",
       "      <th>movie_id</th>\n",
       "      <th>rating</th>\n",
       "    </tr>\n",
       "  </thead>\n",
       "  <tbody>\n",
       "    <tr>\n",
       "      <th>75721</th>\n",
       "      <td>877</td>\n",
       "      <td>381</td>\n",
       "      <td>4</td>\n",
       "    </tr>\n",
       "    <tr>\n",
       "      <th>80184</th>\n",
       "      <td>815</td>\n",
       "      <td>602</td>\n",
       "      <td>3</td>\n",
       "    </tr>\n",
       "    <tr>\n",
       "      <th>19864</th>\n",
       "      <td>94</td>\n",
       "      <td>431</td>\n",
       "      <td>4</td>\n",
       "    </tr>\n",
       "    <tr>\n",
       "      <th>76699</th>\n",
       "      <td>416</td>\n",
       "      <td>875</td>\n",
       "      <td>2</td>\n",
       "    </tr>\n",
       "    <tr>\n",
       "      <th>92991</th>\n",
       "      <td>500</td>\n",
       "      <td>182</td>\n",
       "      <td>2</td>\n",
       "    </tr>\n",
       "    <tr>\n",
       "      <th>...</th>\n",
       "      <td>...</td>\n",
       "      <td>...</td>\n",
       "      <td>...</td>\n",
       "    </tr>\n",
       "    <tr>\n",
       "      <th>21271</th>\n",
       "      <td>399</td>\n",
       "      <td>684</td>\n",
       "      <td>3</td>\n",
       "    </tr>\n",
       "    <tr>\n",
       "      <th>34014</th>\n",
       "      <td>222</td>\n",
       "      <td>580</td>\n",
       "      <td>3</td>\n",
       "    </tr>\n",
       "    <tr>\n",
       "      <th>81355</th>\n",
       "      <td>551</td>\n",
       "      <td>162</td>\n",
       "      <td>5</td>\n",
       "    </tr>\n",
       "    <tr>\n",
       "      <th>65720</th>\n",
       "      <td>803</td>\n",
       "      <td>988</td>\n",
       "      <td>1</td>\n",
       "    </tr>\n",
       "    <tr>\n",
       "      <th>11627</th>\n",
       "      <td>72</td>\n",
       "      <td>177</td>\n",
       "      <td>4</td>\n",
       "    </tr>\n",
       "  </tbody>\n",
       "</table>\n",
       "<p>25000 rows × 3 columns</p>\n",
       "</div>"
      ],
      "text/plain": [
       "       user_id  movie_id  rating\n",
       "75721      877       381       4\n",
       "80184      815       602       3\n",
       "19864       94       431       4\n",
       "76699      416       875       2\n",
       "92991      500       182       2\n",
       "...        ...       ...     ...\n",
       "21271      399       684       3\n",
       "34014      222       580       3\n",
       "81355      551       162       5\n",
       "65720      803       988       1\n",
       "11627       72       177       4\n",
       "\n",
       "[25000 rows x 3 columns]"
      ]
     },
     "execution_count": 11,
     "metadata": {},
     "output_type": "execute_result"
    }
   ],
   "source": [
    "from sklearn.model_selection import train_test_split\n",
    "ratings_train, ratings_test = train_test_split(ratings, test_size = 0.25, random_state=42)"
   ]
  },
  {
   "cell_type": "code",
   "execution_count": 12,
   "metadata": {},
   "outputs": [
    {
     "name": "stdout",
     "output_type": "stream",
     "text": [
      "Iteration: 10 ; Train RMSE = 0.9678 ; Test RMSE = 0.9780\n",
      "Iteration: 20 ; Train RMSE = 0.9426 ; Test RMSE = 0.9587\n",
      "Iteration: 30 ; Train RMSE = 0.9311 ; Test RMSE = 0.9511\n",
      "Iteration: 40 ; Train RMSE = 0.9242 ; Test RMSE = 0.9472\n",
      "Iteration: 50 ; Train RMSE = 0.9192 ; Test RMSE = 0.9450\n",
      "Iteration: 60 ; Train RMSE = 0.9151 ; Test RMSE = 0.9434\n",
      "Iteration: 70 ; Train RMSE = 0.9111 ; Test RMSE = 0.9422\n",
      "Iteration: 80 ; Train RMSE = 0.9066 ; Test RMSE = 0.9410\n",
      "Iteration: 90 ; Train RMSE = 0.9011 ; Test RMSE = 0.9394\n",
      "Iteration: 100 ; Train RMSE = 0.8939 ; Test RMSE = 0.9374\n"
     ]
    }
   ],
   "source": [
    "# Testing MF RMSE\n",
    "R_temp = ratings.pivot(index='user_id', columns='movie_id', values='rating').fillna(0)\n",
    "mf = NEW_MF(R_temp, K=30, alpha=0.001, beta=0.02, iterations=100, verbose=True)\n",
    "test_set = mf.set_test(ratings_test)\n",
    "result = mf.test()"
   ]
  },
  {
   "cell_type": "markdown",
   "metadata": {},
   "source": [
    "### 4.5 MF의 최적 파라미터 찾기"
   ]
  },
  {
   "cell_type": "markdown",
   "metadata": {},
   "source": [
    "K, iteratinos, $\\alpha$, $\\beta$ 와 같은 파라미터가 정확도에 영향을 미친다.  \n",
    "잠재요인의 수인 K의 경우 커질수록 다양한 패턴을 학습할 수 있으므로 정확도가 높아지는데, 지나치게 커지면 과적합이 발생한다.  \n",
    "따라서 K가 커짐에 따라 test set 의 정확도가 커지다가 감소하는 모습을 예상할 수 있다."
   ]
  },
  {
   "cell_type": "markdown",
   "metadata": {},
   "source": [
    "iterations 도 마찬가지 현상이 발생한다. 즉 최적의 파라미터를 찾는게 중요하다."
   ]
  },
  {
   "cell_type": "markdown",
   "metadata": {},
   "source": [
    "이 장에서는 다음과 같은 절차로 최적값을 찾아보도록 한다.\n",
    "1. 최적의 K가 대략 어떤 수인지 확인하기 위해 50~260까지 간격 10으로 정확도를 계산한다.\n",
    "2. 최적의 RMSE를 보이는 K를 확인한 후 이 숫자 전후 10의 K에 대해 1의 간격으로 다시 한번 RMSE를 계산하여 K를 찾는다.\n",
    "3. iterations 는 학습 과정에서 충분히 큰 숫자를 주어서 RMSE가 어떻게 변화하는지 관찰해서 주어진 K에 대해 최적의 iteration 값을 구한다."
   ]
  },
  {
   "cell_type": "code",
   "execution_count": 23,
   "metadata": {},
   "outputs": [
    {
     "name": "stdout",
     "output_type": "stream",
     "text": [
      "K = 50\n",
      "Iteration: 10 ; Train RMSE = 0.9680 ; Test RMSE = 0.9780\n",
      "Iteration: 20 ; Train RMSE = 0.9431 ; Test RMSE = 0.9587\n",
      "Iteration: 30 ; Train RMSE = 0.9318 ; Test RMSE = 0.9512\n",
      "Iteration: 40 ; Train RMSE = 0.9252 ; Test RMSE = 0.9474\n",
      "Iteration: 50 ; Train RMSE = 0.9206 ; Test RMSE = 0.9452\n",
      "K = 60\n",
      "Iteration: 10 ; Train RMSE = 0.9681 ; Test RMSE = 0.9780\n",
      "Iteration: 20 ; Train RMSE = 0.9432 ; Test RMSE = 0.9587\n",
      "Iteration: 30 ; Train RMSE = 0.9320 ; Test RMSE = 0.9512\n",
      "Iteration: 40 ; Train RMSE = 0.9254 ; Test RMSE = 0.9473\n",
      "Iteration: 50 ; Train RMSE = 0.9210 ; Test RMSE = 0.9451\n",
      "K = 70\n",
      "Iteration: 10 ; Train RMSE = 0.9681 ; Test RMSE = 0.9780\n",
      "Iteration: 20 ; Train RMSE = 0.9433 ; Test RMSE = 0.9587\n",
      "Iteration: 30 ; Train RMSE = 0.9322 ; Test RMSE = 0.9512\n",
      "Iteration: 40 ; Train RMSE = 0.9256 ; Test RMSE = 0.9473\n",
      "Iteration: 50 ; Train RMSE = 0.9212 ; Test RMSE = 0.9452\n",
      "K = 80\n",
      "Iteration: 10 ; Train RMSE = 0.9682 ; Test RMSE = 0.9780\n",
      "Iteration: 20 ; Train RMSE = 0.9434 ; Test RMSE = 0.9587\n",
      "Iteration: 30 ; Train RMSE = 0.9323 ; Test RMSE = 0.9512\n",
      "Iteration: 40 ; Train RMSE = 0.9258 ; Test RMSE = 0.9474\n",
      "Iteration: 50 ; Train RMSE = 0.9215 ; Test RMSE = 0.9452\n",
      "K = 90\n",
      "Iteration: 10 ; Train RMSE = 0.9682 ; Test RMSE = 0.9780\n",
      "Iteration: 20 ; Train RMSE = 0.9434 ; Test RMSE = 0.9587\n",
      "Iteration: 30 ; Train RMSE = 0.9323 ; Test RMSE = 0.9512\n",
      "Iteration: 40 ; Train RMSE = 0.9259 ; Test RMSE = 0.9474\n",
      "Iteration: 50 ; Train RMSE = 0.9216 ; Test RMSE = 0.9452\n",
      "K = 100\n",
      "Iteration: 10 ; Train RMSE = 0.9682 ; Test RMSE = 0.9780\n",
      "Iteration: 20 ; Train RMSE = 0.9435 ; Test RMSE = 0.9587\n",
      "Iteration: 30 ; Train RMSE = 0.9324 ; Test RMSE = 0.9512\n",
      "Iteration: 40 ; Train RMSE = 0.9260 ; Test RMSE = 0.9474\n",
      "Iteration: 50 ; Train RMSE = 0.9217 ; Test RMSE = 0.9452\n",
      "K = 110\n",
      "Iteration: 10 ; Train RMSE = 0.9682 ; Test RMSE = 0.9780\n",
      "Iteration: 20 ; Train RMSE = 0.9435 ; Test RMSE = 0.9587\n",
      "Iteration: 30 ; Train RMSE = 0.9325 ; Test RMSE = 0.9512\n",
      "Iteration: 40 ; Train RMSE = 0.9261 ; Test RMSE = 0.9474\n",
      "Iteration: 50 ; Train RMSE = 0.9218 ; Test RMSE = 0.9452\n",
      "K = 120\n",
      "Iteration: 10 ; Train RMSE = 0.9682 ; Test RMSE = 0.9780\n",
      "Iteration: 20 ; Train RMSE = 0.9435 ; Test RMSE = 0.9587\n",
      "Iteration: 30 ; Train RMSE = 0.9325 ; Test RMSE = 0.9512\n",
      "Iteration: 40 ; Train RMSE = 0.9261 ; Test RMSE = 0.9474\n",
      "Iteration: 50 ; Train RMSE = 0.9219 ; Test RMSE = 0.9452\n",
      "K = 130\n",
      "Iteration: 10 ; Train RMSE = 0.9683 ; Test RMSE = 0.9781\n",
      "Iteration: 20 ; Train RMSE = 0.9436 ; Test RMSE = 0.9587\n",
      "Iteration: 30 ; Train RMSE = 0.9325 ; Test RMSE = 0.9512\n",
      "Iteration: 40 ; Train RMSE = 0.9262 ; Test RMSE = 0.9474\n",
      "Iteration: 50 ; Train RMSE = 0.9220 ; Test RMSE = 0.9452\n",
      "K = 140\n",
      "Iteration: 10 ; Train RMSE = 0.9683 ; Test RMSE = 0.9780\n",
      "Iteration: 20 ; Train RMSE = 0.9436 ; Test RMSE = 0.9587\n",
      "Iteration: 30 ; Train RMSE = 0.9326 ; Test RMSE = 0.9512\n",
      "Iteration: 40 ; Train RMSE = 0.9262 ; Test RMSE = 0.9473\n",
      "Iteration: 50 ; Train RMSE = 0.9220 ; Test RMSE = 0.9452\n",
      "K = 150\n",
      "Iteration: 10 ; Train RMSE = 0.9683 ; Test RMSE = 0.9780\n",
      "Iteration: 20 ; Train RMSE = 0.9436 ; Test RMSE = 0.9587\n",
      "Iteration: 30 ; Train RMSE = 0.9326 ; Test RMSE = 0.9512\n",
      "Iteration: 40 ; Train RMSE = 0.9263 ; Test RMSE = 0.9474\n",
      "Iteration: 50 ; Train RMSE = 0.9221 ; Test RMSE = 0.9452\n",
      "K = 160\n",
      "Iteration: 10 ; Train RMSE = 0.9683 ; Test RMSE = 0.9781\n",
      "Iteration: 20 ; Train RMSE = 0.9436 ; Test RMSE = 0.9587\n",
      "Iteration: 30 ; Train RMSE = 0.9326 ; Test RMSE = 0.9512\n",
      "Iteration: 40 ; Train RMSE = 0.9263 ; Test RMSE = 0.9474\n",
      "Iteration: 50 ; Train RMSE = 0.9222 ; Test RMSE = 0.9452\n",
      "K = 170\n",
      "Iteration: 10 ; Train RMSE = 0.9683 ; Test RMSE = 0.9780\n",
      "Iteration: 20 ; Train RMSE = 0.9436 ; Test RMSE = 0.9587\n",
      "Iteration: 30 ; Train RMSE = 0.9326 ; Test RMSE = 0.9512\n",
      "Iteration: 40 ; Train RMSE = 0.9263 ; Test RMSE = 0.9474\n",
      "Iteration: 50 ; Train RMSE = 0.9222 ; Test RMSE = 0.9452\n",
      "K = 180\n",
      "Iteration: 10 ; Train RMSE = 0.9683 ; Test RMSE = 0.9781\n",
      "Iteration: 20 ; Train RMSE = 0.9436 ; Test RMSE = 0.9587\n",
      "Iteration: 30 ; Train RMSE = 0.9327 ; Test RMSE = 0.9512\n",
      "Iteration: 40 ; Train RMSE = 0.9263 ; Test RMSE = 0.9474\n",
      "Iteration: 50 ; Train RMSE = 0.9222 ; Test RMSE = 0.9452\n",
      "K = 190\n",
      "Iteration: 10 ; Train RMSE = 0.9683 ; Test RMSE = 0.9780\n",
      "Iteration: 20 ; Train RMSE = 0.9436 ; Test RMSE = 0.9587\n",
      "Iteration: 30 ; Train RMSE = 0.9327 ; Test RMSE = 0.9512\n",
      "Iteration: 40 ; Train RMSE = 0.9264 ; Test RMSE = 0.9473\n",
      "Iteration: 50 ; Train RMSE = 0.9223 ; Test RMSE = 0.9452\n",
      "K = 200\n",
      "Iteration: 10 ; Train RMSE = 0.9683 ; Test RMSE = 0.9780\n",
      "Iteration: 20 ; Train RMSE = 0.9436 ; Test RMSE = 0.9587\n",
      "Iteration: 30 ; Train RMSE = 0.9327 ; Test RMSE = 0.9512\n",
      "Iteration: 40 ; Train RMSE = 0.9264 ; Test RMSE = 0.9474\n",
      "Iteration: 50 ; Train RMSE = 0.9223 ; Test RMSE = 0.9452\n",
      "K = 210\n",
      "Iteration: 10 ; Train RMSE = 0.9683 ; Test RMSE = 0.9781\n",
      "Iteration: 20 ; Train RMSE = 0.9436 ; Test RMSE = 0.9587\n",
      "Iteration: 30 ; Train RMSE = 0.9327 ; Test RMSE = 0.9512\n",
      "Iteration: 40 ; Train RMSE = 0.9264 ; Test RMSE = 0.9474\n",
      "Iteration: 50 ; Train RMSE = 0.9223 ; Test RMSE = 0.9452\n",
      "K = 220\n",
      "Iteration: 10 ; Train RMSE = 0.9683 ; Test RMSE = 0.9781\n",
      "Iteration: 20 ; Train RMSE = 0.9437 ; Test RMSE = 0.9587\n",
      "Iteration: 30 ; Train RMSE = 0.9327 ; Test RMSE = 0.9512\n",
      "Iteration: 40 ; Train RMSE = 0.9264 ; Test RMSE = 0.9474\n",
      "Iteration: 50 ; Train RMSE = 0.9223 ; Test RMSE = 0.9452\n",
      "K = 230\n",
      "Iteration: 10 ; Train RMSE = 0.9683 ; Test RMSE = 0.9780\n",
      "Iteration: 20 ; Train RMSE = 0.9437 ; Test RMSE = 0.9587\n",
      "Iteration: 30 ; Train RMSE = 0.9327 ; Test RMSE = 0.9512\n",
      "Iteration: 40 ; Train RMSE = 0.9264 ; Test RMSE = 0.9474\n",
      "Iteration: 50 ; Train RMSE = 0.9224 ; Test RMSE = 0.9452\n",
      "K = 240\n",
      "Iteration: 10 ; Train RMSE = 0.9683 ; Test RMSE = 0.9780\n",
      "Iteration: 20 ; Train RMSE = 0.9437 ; Test RMSE = 0.9587\n",
      "Iteration: 30 ; Train RMSE = 0.9327 ; Test RMSE = 0.9512\n",
      "Iteration: 40 ; Train RMSE = 0.9264 ; Test RMSE = 0.9474\n",
      "Iteration: 50 ; Train RMSE = 0.9224 ; Test RMSE = 0.9452\n",
      "K = 250\n",
      "Iteration: 10 ; Train RMSE = 0.9683 ; Test RMSE = 0.9781\n",
      "Iteration: 20 ; Train RMSE = 0.9437 ; Test RMSE = 0.9587\n",
      "Iteration: 30 ; Train RMSE = 0.9327 ; Test RMSE = 0.9512\n",
      "Iteration: 40 ; Train RMSE = 0.9265 ; Test RMSE = 0.9474\n",
      "Iteration: 50 ; Train RMSE = 0.9224 ; Test RMSE = 0.9452\n",
      "K = 260\n",
      "Iteration: 10 ; Train RMSE = 0.9683 ; Test RMSE = 0.9781\n",
      "Iteration: 20 ; Train RMSE = 0.9437 ; Test RMSE = 0.9587\n",
      "Iteration: 30 ; Train RMSE = 0.9328 ; Test RMSE = 0.9512\n",
      "Iteration: 40 ; Train RMSE = 0.9265 ; Test RMSE = 0.9474\n",
      "Iteration: 50 ; Train RMSE = 0.9224 ; Test RMSE = 0.9452\n"
     ]
    }
   ],
   "source": [
    "# 최적의 K값 찾기\n",
    "results = []\n",
    "index = []\n",
    "for K in range(50, 261, 10):\n",
    "    print('K =', K)\n",
    "    R_temp = ratings.pivot(index='user_id', columns='movie_id', values='rating').fillna(0)\n",
    "    mf = NEW_MF(R_temp, K=K, alpha=0.001, beta=0.02, iterations=100, verbose=True)\n",
    "    test_set = mf.set_test(ratings_test)\n",
    "    result = mf.test()\n",
    "    index.append(K)\n",
    "    results.append(result)"
   ]
  },
  {
   "cell_type": "code",
   "execution_count": 25,
   "metadata": {},
   "outputs": [],
   "source": [
    "# 최적의 iterations 값 찾기\n",
    "summary = []\n",
    "for i in range(len(results)):\n",
    "    RMSE = []\n",
    "    for result in results[i]:\n",
    "        RMSE.append(result[2])\n",
    "    min = np.min(RMSE)\n",
    "    j = RMSE.index(min)\n",
    "    summary.append([index[i], j+1, RMSE[j]])"
   ]
  },
  {
   "cell_type": "code",
   "execution_count": 37,
   "metadata": {},
   "outputs": [
    {
     "data": {
      "image/png": "[encoded data removed]",
      "text/plain": [
       "<Figure size 640x480 with 1 Axes>"
      ]
     },
     "metadata": {},
     "output_type": "display_data"
    }
   ],
   "source": [
    "# 그래프 그리기\n",
    "import matplotlib.pyplot as plt\n",
    "plt.plot(index, [x[2] for x in summary])\n",
    "plt.ylim(0.93, 0.95)\n",
    "plt.xlabel('K')\n",
    "plt.ylabel('RMSE')\n",
    "plt.show()"
   ]
  },
  {
   "cell_type": "markdown",
   "metadata": {},
   "source": [
    "같은 방법으로 $\\alpha, \\beta$ 에서도 최적값을 구할 수 있다."
   ]
  },
  {
   "cell_type": "code",
   "execution_count": null,
   "metadata": {},
   "outputs": [],
   "source": []
  }
 ],
 "metadata": {
  "kernelspec": {
   "display_name": "base",
   "language": "python",
   "name": "python3"
  },
  "language_info": {
   "codemirror_mode": {
    "name": "ipython",
    "version": 3
   },
   "file_extension": ".py",
   "mimetype": "text/x-python",
   "name": "python",
   "nbconvert_exporter": "python",
   "pygments_lexer": "ipython3",
   "version": "3.11.5"
  }
 },
 "nbformat": 4,
 "nbformat_minor": 2
}
