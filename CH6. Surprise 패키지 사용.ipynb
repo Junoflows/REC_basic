{
 "cells": [
  {
   "cell_type": "markdown",
   "metadata": {},
   "source": [
    "## Ch06 Surprise 패키지 사용"
   ]
  },
  {
   "cell_type": "markdown",
   "metadata": {},
   "source": [
    "Python에는 CF와 MF 기반 추천 시스템을 구현하고 테스트해 볼 수 있는 Surprise 패키지가 존재한다."
   ]
  },
  {
   "cell_type": "markdown",
   "metadata": {},
   "source": [
    "### 6.1 Surprise 기본 활용 방법"
   ]
  },
  {
   "cell_type": "markdown",
   "metadata": {},
   "source": [
    "Surprise 라이브러리에는 ml-100K, ml-1m, jester 3가지 데이터가 내장되어 있다.  \n",
    "Surprise 라이브러리에서 제공하는 알고리즘은 다음과 같다."
   ]
  },
  {
   "cell_type": "markdown",
   "metadata": {},
   "source": [
    "|알고리즘|설명|\n",
    "|---|---|\n",
    "|random_pred.NormalPredictor|Training set의 분포가 정규분포라고 가정한 상태에서 평점을 <br/> 무작위로 추출하는 알고리즘. 일반적으로 성능이 안좋음|\n",
    "|baseline_only.BaselineOnly|사용자의 평점평균과 아이템의 평점평균을 모델화해서 <br/> 예측하는 알고리즘|\n",
    "|knns.KNNBASIC|3.4에서 설명한 이웃을 고려한 기본적인 CF 알고리즘|\n",
    "|knns.KNNWithMeans|3.6에서 설명한 사용자의 평가경향을 고려한 CF 알고리즘|\n",
    "|knns.KNNWithZScore|사용자의 평가경향을 표준화시킨 CF 알고리즘|\n",
    "|knns.KNNBaseline|사용자의 평점평균과 아이템의 평점평균을 모델화시킨 것 <br/> (Baseline rating)을 고려한 CF 알고리즘|\n",
    "|matrix_factorization.SVD|4.4에서 설명한 MF 알고리즘|\n",
    "|matrix_factorization.SVDpp|MF를 기반으로 사용자의 특정 아이템에 대한 평가여부를 이진값으로 <br/> 일종의 암묵적 평가(implicit ratings)로 추가한 SVD++ 알고리즘|\n",
    "|matrix_factorization.NMF|행렬의 값이 전부 양수일 때 사용 가능한 MF 알고리즘|\n",
    "|slope_one.SlopeOne|간단하면서도 정확도가 높은 것이 특징인 SlopeOne <br/> 알고리즘을 적용한 Item-based CF 알고리즘|\n",
    "|co_clustering.CoClustering|사용자와 아이템을 동시에 클러시트렁하는 기법을 적용한 CF 알고리즘|"
   ]
  },
  {
   "cell_type": "code",
   "execution_count": 1,
   "metadata": {},
   "outputs": [
    {
     "name": "stdout",
     "output_type": "stream",
     "text": [
      "Dataset ml-100k could not be found. Do you want to download it? [Y/n] Trying to download dataset from https://files.grouplens.org/datasets/movielens/ml-100k.zip...\n",
      "Done! Dataset ml-100k has been saved to C:\\Users\\USER/.surprise_data/ml-100k\n",
      "Computing the msd similarity matrix...\n",
      "Done computing similarity matrix.\n",
      "RMSE: 0.9554\n"
     ]
    },
    {
     "data": {
      "text/plain": [
       "0.9553610603855922"
      ]
     },
     "execution_count": 1,
     "metadata": {},
     "output_type": "execute_result"
    }
   ],
   "source": [
    "import numpy as np\n",
    "import pandas as pd\n",
    "\n",
    "# 필요한 Surprise 알고리즘 불러오기\n",
    "from surprise import BaselineOnly, KNNWithMeans, SVD, SVDpp, NMF, Dataset, accuracy, Reader\n",
    "from surprise.model_selection import cross_validate\n",
    "from surprise.model_selection import train_test_split\n",
    "\n",
    "# MovieLens 100K 데이터 불러오기\n",
    "data = Dataset.load_builtin('ml-100k')\n",
    "\n",
    "# Train/Test 분리\n",
    "trainset, testset = train_test_split(data, test_size= 0.25)\n",
    "\n",
    "# 정확도 계산\n",
    "algo = KNNWithMeans()\n",
    "algo.fit(trainset)\n",
    "predictions = algo.test(testset)\n",
    "accuracy.rmse(predictions)"
   ]
  },
  {
   "cell_type": "markdown",
   "metadata": {},
   "source": [
    "### 6.2 알고리즘 비교"
   ]
  },
  {
   "cell_type": "markdown",
   "metadata": {},
   "source": [
    "Surprise 의 다양한 알고리즘의 정확도를 비교해보자.  \n",
    "BaselineOnly, KNNWithMeans, SVD, SVDpp 4가지를 비교한다."
   ]
  },
  {
   "cell_type": "code",
   "execution_count": 3,
   "metadata": {},
   "outputs": [
    {
     "name": "stdout",
     "output_type": "stream",
     "text": [
      "Estimating biases using als...\n",
      "RMSE: 0.9488\n",
      "Computing the msd similarity matrix...\n",
      "Done computing similarity matrix.\n",
      "RMSE: 0.9554\n",
      "RMSE: 0.9401\n",
      "RMSE: 0.9220\n"
     ]
    }
   ],
   "source": [
    "# 알고리즘 비교\n",
    "algorithms = [BaselineOnly, KNNWithMeans, SVD, SVDpp]\n",
    "names = []\n",
    "results = []\n",
    "for option in algorithms:\n",
    "    algo = option()\n",
    "    names.append(option.__name__)\n",
    "    algo.fit(trainset)\n",
    "    predictions = algo.test(testset)\n",
    "    results.append(accuracy.rmse(predictions))\n",
    "names = np.array(names)\n",
    "results = np.array(results)"
   ]
  },
  {
   "cell_type": "code",
   "execution_count": 37,
   "metadata": {},
   "outputs": [
    {
     "data": {
      "image/png": "[encoded data removed]",
      "text/plain": [
       "<Figure size 640x480 with 1 Axes>"
      ]
     },
     "metadata": {},
     "output_type": "display_data"
    },
    {
     "data": {
      "text/plain": [
       "array([0.92202169, 0.94011766, 0.94876095, 0.95536106])"
      ]
     },
     "execution_count": 37,
     "metadata": {},
     "output_type": "execute_result"
    }
   ],
   "source": [
    "# 결과를 그래프로 표시\n",
    "import matplotlib.pyplot as plt\n",
    "index = np.argsort(results)\n",
    "plt.ylim(0.8, 1)\n",
    "plt.plot(names[index], results[index])\n",
    "plt.show()\n",
    "\n",
    "results[index]"
   ]
  },
  {
   "cell_type": "markdown",
   "metadata": {},
   "source": [
    "### 6.3 알고리즘 옵션 지정"
   ]
  },
  {
   "cell_type": "markdown",
   "metadata": {},
   "source": [
    "앞서 실행한 모델 중 KNN은 유사도 지표나 이웃크기를 기본값으로 사용하였는데 그 기본값은 이웃 크기의 기본값은 40, 유사도 지표는 MSE 임을 알 수 있다.  \n",
    "이웃의 크기를 변경하고 싶거나 유사도지표를 다른 것을 사용할 필요가 있으면 어떻게 해야할까? "
   ]
  },
  {
   "cell_type": "code",
   "execution_count": 38,
   "metadata": {},
   "outputs": [
    {
     "name": "stdout",
     "output_type": "stream",
     "text": [
      "Estimating biases using als...\n",
      "Computing the pearson_baseline similarity matrix...\n",
      "Done computing similarity matrix.\n",
      "RMSE: 0.9420\n"
     ]
    },
    {
     "data": {
      "text/plain": [
       "0.9419856925698297"
      ]
     },
     "execution_count": 38,
     "metadata": {},
     "output_type": "execute_result"
    }
   ],
   "source": [
    "# 알고리즘 옵션 변경, 정확도 계산\n",
    "sim_options = {'name' : 'pearson_baseline', \n",
    "               'user_based' : True}\n",
    "algo = KNNWithMeans(k = 30, sim_options=sim_options)\n",
    "algo.fit(trainset)\n",
    "predictions = algo.test(testset)\n",
    "accuracy.rmse(predictions)"
   ]
  },
  {
   "cell_type": "markdown",
   "metadata": {},
   "source": [
    "### 6.4 다양한 조건의 비교"
   ]
  },
  {
   "cell_type": "code",
   "execution_count": 45,
   "metadata": {},
   "outputs": [
    {
     "name": "stdout",
     "output_type": "stream",
     "text": [
      "Estimating biases using als...\n",
      "Computing the pearson_baseline similarity matrix...\n",
      "Done computing similarity matrix.\n",
      "RMSE: 0.9562\n",
      "Estimating biases using als...\n",
      "Computing the pearson_baseline similarity matrix...\n",
      "Done computing similarity matrix.\n",
      "RMSE: 0.9443\n",
      "Estimating biases using als...\n",
      "Computing the pearson_baseline similarity matrix...\n",
      "Done computing similarity matrix.\n",
      "RMSE: 0.9420\n",
      "Estimating biases using als...\n",
      "Computing the pearson_baseline similarity matrix...\n",
      "Done computing similarity matrix.\n",
      "RMSE: 0.9421\n",
      "Estimating biases using als...\n",
      "Computing the pearson_baseline similarity matrix...\n",
      "Done computing similarity matrix.\n",
      "RMSE: 0.9421\n",
      "Estimating biases using als...\n",
      "Computing the pearson_baseline similarity matrix...\n",
      "Done computing similarity matrix.\n",
      "RMSE: 0.9424\n"
     ]
    },
    {
     "data": {
      "text/plain": [
       "[[10, 0.95617787507692],\n",
       " [20, 0.9443320533803498],\n",
       " [30, 0.9419856925698297],\n",
       " [40, 0.9420935214205417],\n",
       " [50, 0.9421151723151562],\n",
       " [60, 0.9423667427679971]]"
      ]
     },
     "execution_count": 45,
     "metadata": {},
     "output_type": "execute_result"
    }
   ],
   "source": [
    "# 다양한 Neighbor size 비교 \n",
    "result = []\n",
    "for neighbor_size in (10, 20, 30, 40, 50, 60):\n",
    "    algo = KNNWithMeans(k=neighbor_size, sim_options={'name':\n",
    "           'pearson_baseline', 'user_based': True})\n",
    "    algo.fit(trainset)\n",
    "    predictions = algo.test(testset)\n",
    "    result.append([neighbor_size, accuracy.rmse(predictions)])\n",
    "result"
   ]
  },
  {
   "cell_type": "markdown",
   "metadata": {},
   "source": [
    "이웃 크기의 비교 뿐 아니라 다른 조건의 비교도 비슷한 방식으로 가능한데, 모든 가능한 조합을 비교하는 Grid Search 로 해결할 수 있다."
   ]
  },
  {
   "cell_type": "code",
   "execution_count": 65,
   "metadata": {},
   "outputs": [],
   "source": [
    "# KNN 다양한 파라미터 비교\n",
    "from surprise.model_selection import GridSearchCV\n",
    "param_grid = {'k' : [5, 10, 15, 25], 'verbose' : [False],\n",
    "              'sim_options' : {'name' : ['pearson_baseline', 'cosine'],\n",
    "                               'user_based' : [True, False]}}\n",
    "\n",
    "gs = GridSearchCV(KNNWithMeans, param_grid, measures=['rmse'], cv = 4)\n",
    "gs.fit(data)"
   ]
  },
  {
   "cell_type": "code",
   "execution_count": 67,
   "metadata": {},
   "outputs": [
    {
     "name": "stdout",
     "output_type": "stream",
     "text": [
      "{'rmse': 0.9261977552639936}\n",
      "{'rmse': {'k': 25, 'verbose': False, 'sim_options': {'name': 'pearson_baseline', 'user_based': False}}}\n"
     ]
    }
   ],
   "source": [
    "# 최적 RMSE 출력\n",
    "print(gs.best_score)\n",
    "\n",
    "# 최적 RMSE의 parameter\n",
    "print(gs.best_params)"
   ]
  },
  {
   "cell_type": "code",
   "execution_count": 68,
   "metadata": {},
   "outputs": [],
   "source": [
    "# SVD 다양한 파라미터 비교\n",
    "param_grid = {'n_epochs' : [70, 80, 90],\n",
    "              'lr_all' : [0.005, 0.006, 0.007],\n",
    "              'reg_all' : [0.05, 0.07, 0.1]}\n",
    "\n",
    "gs = GridSearchCV(SVD, param_grid, measures=['rmse'], cv = 4)\n",
    "gs.fit(data)"
   ]
  },
  {
   "cell_type": "code",
   "execution_count": 69,
   "metadata": {},
   "outputs": [
    {
     "name": "stdout",
     "output_type": "stream",
     "text": [
      "{'rmse': 0.9129749958791487}\n",
      "{'rmse': {'n_epochs': 80, 'lr_all': 0.005, 'reg_all': 0.1}}\n"
     ]
    }
   ],
   "source": [
    "# 최적 RMSE 출력\n",
    "print(gs.best_score)\n",
    "\n",
    "# 최적 RMSE의 parameter\n",
    "print(gs.best_params)"
   ]
  },
  {
   "cell_type": "markdown",
   "metadata": {},
   "source": [
    "### 6.5 외부 데이터 사용"
   ]
  },
  {
   "cell_type": "markdown",
   "metadata": {},
   "source": [
    "외부 데이터는 Surprise 라이브러리에 맞는 형태로 변형시켜야 한다.  \n",
    "Read 클래스를 이용해 읽어오는 코드이다."
   ]
  },
  {
   "cell_type": "code",
   "execution_count": 76,
   "metadata": {},
   "outputs": [
    {
     "name": "stdout",
     "output_type": "stream",
     "text": [
      "Computing the msd similarity matrix...\n",
      "Done computing similarity matrix.\n",
      "RMSE: 0.9559\n"
     ]
    },
    {
     "data": {
      "text/plain": [
       "0.9559497646579957"
      ]
     },
     "execution_count": 76,
     "metadata": {},
     "output_type": "execute_result"
    }
   ],
   "source": [
    "# csv 파일 불러오기\n",
    "r_cols = ['user_id', 'movie_id', 'rating', 'timestamp']\n",
    "ratings = pd.read_csv('./data/u.data', names=r_cols,  sep='\\t',encoding='latin-1')\n",
    "reader = Reader(rating_scale=(1,5))\n",
    "data = Dataset.load_from_df(ratings[['user_id', 'movie_id', 'rating']], reader)\n",
    "\n",
    "# Train/Test 분리\n",
    "trainset, testset = train_test_split(data, test_size=0.25)\n",
    "\n",
    "# 정확도 계산\n",
    "algo = KNNWithMeans()\n",
    "algo.fit(trainset)\n",
    "predictions= algo.test(testset)\n",
    "accuracy.rmse(predictions)"
   ]
  }
 ],
 "metadata": {
  "kernelspec": {
   "display_name": "base",
   "language": "python",
   "name": "python3"
  },
  "language_info": {
   "codemirror_mode": {
    "name": "ipython",
    "version": 3
   },
   "file_extension": ".py",
   "mimetype": "text/x-python",
   "name": "python",
   "nbconvert_exporter": "python",
   "pygments_lexer": "ipython3",
   "version": "3.11.5"
  }
 },
 "nbformat": 4,
 "nbformat_minor": 2
}
