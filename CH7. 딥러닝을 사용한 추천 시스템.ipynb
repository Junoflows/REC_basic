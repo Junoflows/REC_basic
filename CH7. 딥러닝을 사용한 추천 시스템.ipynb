{
 "cells": [
  {
   "cell_type": "markdown",
   "metadata": {},
   "source": [
    "## Ch07 딥러닝을 사용한 추천 시스템"
   ]
  },
  {
   "cell_type": "markdown",
   "metadata": {},
   "source": [
    "딥러닝은 다수의 은닉층을 가진 인공신경망을 적용하는 기법을 통틀어서 가리키는 용어이다.  \n",
    "추천시스템에서 DL이 어떻게 사용되는지 알아보자."
   ]
  },
  {
   "cell_type": "markdown",
   "metadata": {},
   "source": [
    "### 7.1 MF를 신경망으로 변환하기"
   ]
  },
  {
   "cell_type": "markdown",
   "metadata": {},
   "source": [
    "DL에 들어기기 전에 은닉층이 없는 신경망 모형을 Keras로 구성해 보기로 한다."
   ]
  },
  {
   "cell_type": "markdown",
   "metadata": {},
   "source": [
    "<img src = 'https://velog.velcdn.com/images/lejss1012/post/cdc4603c-d165-4ddb-a0bc-f964622d8494/image.png' width = 500 height = 300>"
   ]
  },
  {
   "cell_type": "markdown",
   "metadata": {},
   "source": [
    "<img src='https://velog.velcdn.com/images/lejss1012/post/b0cb85fb-fbc0-4c6e-8865-46bde4864298/image.png' width = 500 height = 300>"
   ]
  },
  {
   "cell_type": "markdown",
   "metadata": {},
   "source": [
    "### 7.2 Keras로 MF 구현하기"
   ]
  },
  {
   "cell_type": "code",
   "execution_count": 1,
   "metadata": {},
   "outputs": [],
   "source": [
    "import pandas as pd\n",
    "import numpy as np\n",
    "\n",
    "# csv 파일 불러오기\n",
    "r_cols = ['user_id', 'movie_id', 'rating', 'timestamp']\n",
    "ratings = pd.read_csv('./data/u.data', names = r_cols, sep = '\\t', encoding = 'latin-1')\n",
    "ratings = ratings[['user_id', 'movie_id', 'rating']].astype(int)\n",
    "\n",
    "# train test 분리\n",
    "from sklearn.utils import shuffle\n",
    "TRAIN_SIZE = 0.75\n",
    "ratings = shuffle(ratings)\n",
    "cutoff = int(TRAIN_SIZE * len(ratings))\n",
    "\n",
    "ratings_train = ratings.iloc[:cutoff]\n",
    "ratings_test = ratings.iloc[cutoff:]"
   ]
  },
  {
   "cell_type": "code",
   "execution_count": 8,
   "metadata": {},
   "outputs": [],
   "source": [
    "# !pip install tensorflow"
   ]
  },
  {
   "cell_type": "code",
   "execution_count": 7,
   "metadata": {},
   "outputs": [
    {
     "name": "stdout",
     "output_type": "stream",
     "text": [
      "Model: \"model\"\n",
      "__________________________________________________________________________________________________\n",
      " Layer (type)                Output Shape                 Param #   Connected to                  \n",
      "==================================================================================================\n",
      " input_6 (InputLayer)        [(None, 1)]                  0         []                            \n",
      "                                                                                                  \n",
      " input_7 (InputLayer)        [(None, 1)]                  0         []                            \n",
      "                                                                                                  \n",
      " embedding_5 (Embedding)     (None, 1, 200)               188800    ['input_6[0][0]']             \n",
      "                                                                                                  \n",
      " embedding_6 (Embedding)     (None, 1, 200)               336600    ['input_7[0][0]']             \n",
      "                                                                                                  \n",
      " dot_1 (Dot)                 (None, 1, 1)                 0         ['embedding_5[0][0]',         \n",
      "                                                                     'embedding_6[0][0]']         \n",
      "                                                                                                  \n",
      " embedding_7 (Embedding)     (None, 1, 1)                 944       ['input_6[0][0]']             \n",
      "                                                                                                  \n",
      " embedding_8 (Embedding)     (None, 1, 1)                 1683      ['input_7[0][0]']             \n",
      "                                                                                                  \n",
      " add_1 (Add)                 (None, 1, 1)                 0         ['dot_1[0][0]',               \n",
      "                                                                     'embedding_7[0][0]',         \n",
      "                                                                     'embedding_8[0][0]']         \n",
      "                                                                                                  \n",
      " flatten_1 (Flatten)         (None, 1)                    0         ['add_1[0][0]']               \n",
      "                                                                                                  \n",
      "==================================================================================================\n",
      "Total params: 528027 (2.01 MB)\n",
      "Trainable params: 528027 (2.01 MB)\n",
      "Non-trainable params: 0 (0.00 Byte)\n",
      "__________________________________________________________________________________________________\n"
     ]
    }
   ],
   "source": [
    "import tensorflow as tf\n",
    "from tensorflow.keras import layers\n",
    "from tensorflow.keras.models import Model\n",
    "from tensorflow.keras.layers import Input, Embedding, Dot, Add, Flatten\n",
    "from tensorflow.keras.regularizers import l2\n",
    "from tensorflow.keras.optimizers import SGD, Adamax\n",
    "\n",
    "# Variable 초기화\n",
    "K = 200 # Latent factor 수\n",
    "mu = ratings_train.rating.mean() # 전체 평균\n",
    "M = ratings.user_id.max() + 1 # number of users\n",
    "N = ratings.movie_id.max() + 1 # number of movies\n",
    "\n",
    "# Defining RMSE measure\n",
    "def RMSE(y_true, y_pred):\n",
    "    return tf.sqrt(tf.reduce_mean(tf.square(y_true - y_pred)))\n",
    "\n",
    "# Keras model\n",
    "user = Input(shape = (1,))  # User input\n",
    "item = Input(shape = (1,))  # Item input\n",
    "P_embedding = Embedding(M, K, embeddings_regularizer = l2())(user)  # (M, 1, K)\n",
    "Q_embedding = Embedding(N, K, embeddings_regularizer = l2())(item)  # (N, 1, K)\n",
    "user_bias = Embedding(M, 1, embeddings_regularizer=l2())(user) # User bias term (M, 1, )\n",
    "item_bias = Embedding(N, 1, embeddings_regularizer=l2())(item) # Item bias term (N, 1, )\n",
    "\n",
    "# R = Dot(axes = 2)([P_embedding, Q_embedding])\n",
    "R = layers.dot([P_embedding, Q_embedding], axes = 2)    # (1, 1, 1)\n",
    "# R = Add()([R, user_bias, item_bias])\n",
    "R = layers.add([R, user_bias, item_bias])\n",
    "R = Flatten()(R)    # (1, 1)\n",
    "\n",
    "# Model setting\n",
    "model = Model(inputs = [user, item], outputs = R)\n",
    "model.compile(\n",
    "    loss = RMSE,\n",
    "    optimizer = SGD(),\n",
    "    metrics = [RMSE]\n",
    ")\n",
    "model.summary()"
   ]
  },
  {
   "cell_type": "code",
   "execution_count": 8,
   "metadata": {},
   "outputs": [
    {
     "name": "stdout",
     "output_type": "stream",
     "text": [
      "Epoch 1/60\n",
      "WARNING:tensorflow:From c:\\Users\\USER\\anaconda3\\Lib\\site-packages\\keras\\src\\utils\\tf_utils.py:492: The name tf.ragged.RaggedTensorValue is deprecated. Please use tf.compat.v1.ragged.RaggedTensorValue instead.\n",
      "\n",
      "WARNING:tensorflow:From c:\\Users\\USER\\anaconda3\\Lib\\site-packages\\keras\\src\\engine\\base_layer_utils.py:384: The name tf.executing_eagerly_outside_functions is deprecated. Please use tf.compat.v1.executing_eagerly_outside_functions instead.\n",
      "\n",
      "293/293 [==============================] - 2s 4ms/step - loss: 5.2707 - RMSE: 1.1240 - val_loss: 5.0341 - val_RMSE: 1.1264\n",
      "Epoch 2/60\n",
      "293/293 [==============================] - 1s 3ms/step - loss: 4.8099 - RMSE: 1.1218 - val_loss: 4.6000 - val_RMSE: 1.1245\n",
      "Epoch 3/60\n",
      "293/293 [==============================] - 1s 3ms/step - loss: 4.4004 - RMSE: 1.1201 - val_loss: 4.2140 - val_RMSE: 1.1227\n",
      "Epoch 4/60\n",
      "293/293 [==============================] - 1s 3ms/step - loss: 4.0361 - RMSE: 1.1184 - val_loss: 3.8708 - val_RMSE: 1.1211\n",
      "Epoch 5/60\n",
      "293/293 [==============================] - 1s 3ms/step - loss: 3.7122 - RMSE: 1.1169 - val_loss: 3.5655 - val_RMSE: 1.1196\n",
      "Epoch 6/60\n",
      "293/293 [==============================] - 1s 3ms/step - loss: 3.4242 - RMSE: 1.1155 - val_loss: 3.2940 - val_RMSE: 1.1182\n",
      "Epoch 7/60\n",
      "293/293 [==============================] - 1s 3ms/step - loss: 3.1679 - RMSE: 1.1141 - val_loss: 3.0525 - val_RMSE: 1.1168\n",
      "Epoch 8/60\n",
      "293/293 [==============================] - 1s 3ms/step - loss: 2.9400 - RMSE: 1.1127 - val_loss: 2.8378 - val_RMSE: 1.1156\n",
      "Epoch 9/60\n",
      "293/293 [==============================] - 1s 3ms/step - loss: 2.7374 - RMSE: 1.1117 - val_loss: 2.6469 - val_RMSE: 1.1145\n",
      "Epoch 10/60\n",
      "293/293 [==============================] - 1s 3ms/step - loss: 2.5571 - RMSE: 1.1104 - val_loss: 2.4770 - val_RMSE: 1.1134\n",
      "Epoch 11/60\n",
      "293/293 [==============================] - 1s 3ms/step - loss: 2.3969 - RMSE: 1.1095 - val_loss: 2.3260 - val_RMSE: 1.1125\n",
      "Epoch 12/60\n",
      "293/293 [==============================] - 1s 3ms/step - loss: 2.2543 - RMSE: 1.1085 - val_loss: 2.1917 - val_RMSE: 1.1115\n",
      "Epoch 13/60\n",
      "293/293 [==============================] - 1s 3ms/step - loss: 2.1273 - RMSE: 1.1074 - val_loss: 2.0722 - val_RMSE: 1.1107\n",
      "Epoch 14/60\n",
      "293/293 [==============================] - 1s 3ms/step - loss: 2.0148 - RMSE: 1.1068 - val_loss: 1.9660 - val_RMSE: 1.1099\n",
      "Epoch 15/60\n",
      "293/293 [==============================] - 1s 3ms/step - loss: 1.9146 - RMSE: 1.1061 - val_loss: 1.8715 - val_RMSE: 1.1092\n",
      "Epoch 16/60\n",
      "293/293 [==============================] - 1s 3ms/step - loss: 1.8253 - RMSE: 1.1052 - val_loss: 1.7875 - val_RMSE: 1.1085\n",
      "Epoch 17/60\n",
      "293/293 [==============================] - 1s 3ms/step - loss: 1.7460 - RMSE: 1.1045 - val_loss: 1.7128 - val_RMSE: 1.1078\n",
      "Epoch 18/60\n",
      "293/293 [==============================] - 1s 3ms/step - loss: 1.6755 - RMSE: 1.1040 - val_loss: 1.6463 - val_RMSE: 1.1072\n",
      "Epoch 19/60\n",
      "293/293 [==============================] - 1s 3ms/step - loss: 1.6127 - RMSE: 1.1033 - val_loss: 1.5872 - val_RMSE: 1.1067\n",
      "Epoch 20/60\n",
      "293/293 [==============================] - 1s 3ms/step - loss: 1.5571 - RMSE: 1.1029 - val_loss: 1.5347 - val_RMSE: 1.1061\n",
      "Epoch 21/60\n",
      "293/293 [==============================] - 1s 3ms/step - loss: 1.5074 - RMSE: 1.1024 - val_loss: 1.4879 - val_RMSE: 1.1057\n",
      "Epoch 22/60\n",
      "293/293 [==============================] - 1s 3ms/step - loss: 1.4633 - RMSE: 1.1019 - val_loss: 1.4464 - val_RMSE: 1.1052\n",
      "Epoch 23/60\n",
      "293/293 [==============================] - 1s 3ms/step - loss: 1.4243 - RMSE: 1.1017 - val_loss: 1.4094 - val_RMSE: 1.1048\n",
      "Epoch 24/60\n",
      "293/293 [==============================] - 1s 3ms/step - loss: 1.3892 - RMSE: 1.1011 - val_loss: 1.3765 - val_RMSE: 1.1044\n",
      "Epoch 25/60\n",
      "293/293 [==============================] - 1s 3ms/step - loss: 1.3582 - RMSE: 1.1007 - val_loss: 1.3473 - val_RMSE: 1.1040\n",
      "Epoch 26/60\n",
      "293/293 [==============================] - 1s 3ms/step - loss: 1.3305 - RMSE: 1.1002 - val_loss: 1.3212 - val_RMSE: 1.1037\n",
      "Epoch 27/60\n",
      "293/293 [==============================] - 1s 3ms/step - loss: 1.3060 - RMSE: 1.0999 - val_loss: 1.2981 - val_RMSE: 1.1033\n",
      "Epoch 28/60\n",
      "293/293 [==============================] - 1s 3ms/step - loss: 1.2842 - RMSE: 1.0997 - val_loss: 1.2776 - val_RMSE: 1.1030\n",
      "Epoch 29/60\n",
      "293/293 [==============================] - 1s 3ms/step - loss: 1.2648 - RMSE: 1.0994 - val_loss: 1.2593 - val_RMSE: 1.1027\n",
      "Epoch 30/60\n",
      "293/293 [==============================] - 1s 3ms/step - loss: 1.2475 - RMSE: 1.0991 - val_loss: 1.2430 - val_RMSE: 1.1025\n",
      "Epoch 31/60\n",
      "293/293 [==============================] - 1s 3ms/step - loss: 1.2321 - RMSE: 1.0988 - val_loss: 1.2285 - val_RMSE: 1.1022\n",
      "Epoch 32/60\n",
      "293/293 [==============================] - 1s 4ms/step - loss: 1.2184 - RMSE: 1.0985 - val_loss: 1.2156 - val_RMSE: 1.1020\n",
      "Epoch 33/60\n",
      "293/293 [==============================] - 1s 3ms/step - loss: 1.2063 - RMSE: 1.0983 - val_loss: 1.2042 - val_RMSE: 1.1018\n",
      "Epoch 34/60\n",
      "293/293 [==============================] - 1s 3ms/step - loss: 1.1955 - RMSE: 1.0981 - val_loss: 1.1940 - val_RMSE: 1.1016\n",
      "Epoch 35/60\n",
      "293/293 [==============================] - 1s 3ms/step - loss: 1.1860 - RMSE: 1.0980 - val_loss: 1.1850 - val_RMSE: 1.1014\n",
      "Epoch 36/60\n",
      "293/293 [==============================] - 1s 3ms/step - loss: 1.1774 - RMSE: 1.0978 - val_loss: 1.1769 - val_RMSE: 1.1012\n",
      "Epoch 37/60\n",
      "293/293 [==============================] - 1s 3ms/step - loss: 1.1698 - RMSE: 1.0976 - val_loss: 1.1698 - val_RMSE: 1.1011\n",
      "Epoch 38/60\n",
      "293/293 [==============================] - 1s 3ms/step - loss: 1.1630 - RMSE: 1.0974 - val_loss: 1.1634 - val_RMSE: 1.1009\n",
      "Epoch 39/60\n",
      "293/293 [==============================] - 1s 3ms/step - loss: 1.1569 - RMSE: 1.0972 - val_loss: 1.1577 - val_RMSE: 1.1007\n",
      "Epoch 40/60\n",
      "293/293 [==============================] - 1s 3ms/step - loss: 1.1517 - RMSE: 1.0972 - val_loss: 1.1527 - val_RMSE: 1.1006\n",
      "Epoch 41/60\n",
      "293/293 [==============================] - 1s 3ms/step - loss: 1.1469 - RMSE: 1.0970 - val_loss: 1.1482 - val_RMSE: 1.1005\n",
      "Epoch 42/60\n",
      "293/293 [==============================] - 1s 3ms/step - loss: 1.1426 - RMSE: 1.0968 - val_loss: 1.1442 - val_RMSE: 1.1004\n",
      "Epoch 43/60\n",
      "293/293 [==============================] - 1s 3ms/step - loss: 1.1388 - RMSE: 1.0967 - val_loss: 1.1407 - val_RMSE: 1.1003\n",
      "Epoch 44/60\n",
      "293/293 [==============================] - 1s 3ms/step - loss: 1.1355 - RMSE: 1.0966 - val_loss: 1.1375 - val_RMSE: 1.1002\n",
      "Epoch 45/60\n",
      "293/293 [==============================] - 1s 3ms/step - loss: 1.1326 - RMSE: 1.0965 - val_loss: 1.1347 - val_RMSE: 1.1001\n",
      "Epoch 46/60\n",
      "293/293 [==============================] - 1s 3ms/step - loss: 1.1300 - RMSE: 1.0965 - val_loss: 1.1322 - val_RMSE: 1.1000\n",
      "Epoch 47/60\n",
      "293/293 [==============================] - 1s 3ms/step - loss: 1.1276 - RMSE: 1.0964 - val_loss: 1.1300 - val_RMSE: 1.0999\n",
      "Epoch 48/60\n",
      "293/293 [==============================] - 1s 3ms/step - loss: 1.1255 - RMSE: 1.0963 - val_loss: 1.1281 - val_RMSE: 1.0998\n",
      "Epoch 49/60\n",
      "293/293 [==============================] - 1s 3ms/step - loss: 1.1236 - RMSE: 1.0962 - val_loss: 1.1263 - val_RMSE: 1.0997\n",
      "Epoch 50/60\n",
      "293/293 [==============================] - 1s 3ms/step - loss: 1.1220 - RMSE: 1.0962 - val_loss: 1.1248 - val_RMSE: 1.0997\n",
      "Epoch 51/60\n",
      "293/293 [==============================] - 1s 3ms/step - loss: 1.1205 - RMSE: 1.0960 - val_loss: 1.1234 - val_RMSE: 1.0996\n",
      "Epoch 52/60\n",
      "293/293 [==============================] - 1s 3ms/step - loss: 1.1193 - RMSE: 1.0961 - val_loss: 1.1221 - val_RMSE: 1.0995\n",
      "Epoch 53/60\n",
      "293/293 [==============================] - 1s 3ms/step - loss: 1.1180 - RMSE: 1.0959 - val_loss: 1.1210 - val_RMSE: 1.0995\n",
      "Epoch 54/60\n",
      "293/293 [==============================] - 1s 3ms/step - loss: 1.1170 - RMSE: 1.0959 - val_loss: 1.1201 - val_RMSE: 1.0994\n",
      "Epoch 55/60\n",
      "293/293 [==============================] - 1s 3ms/step - loss: 1.1161 - RMSE: 1.0958 - val_loss: 1.1192 - val_RMSE: 1.0994\n",
      "Epoch 56/60\n",
      "293/293 [==============================] - 1s 3ms/step - loss: 1.1153 - RMSE: 1.0958 - val_loss: 1.1184 - val_RMSE: 1.0993\n",
      "Epoch 57/60\n",
      "293/293 [==============================] - 1s 3ms/step - loss: 1.1145 - RMSE: 1.0957 - val_loss: 1.1177 - val_RMSE: 1.0993\n",
      "Epoch 58/60\n",
      "293/293 [==============================] - 1s 3ms/step - loss: 1.1139 - RMSE: 1.0957 - val_loss: 1.1171 - val_RMSE: 1.0992\n",
      "Epoch 59/60\n",
      "293/293 [==============================] - 1s 3ms/step - loss: 1.1134 - RMSE: 1.0957 - val_loss: 1.1166 - val_RMSE: 1.0992\n",
      "Epoch 60/60\n",
      "293/293 [==============================] - 1s 3ms/step - loss: 1.1128 - RMSE: 1.0956 - val_loss: 1.1161 - val_RMSE: 1.0992\n"
     ]
    }
   ],
   "source": [
    "# Model fitting\n",
    "result = model.fit(\n",
    "    x = [ratings_train.user_id.values, ratings_train.movie_id.values],\n",
    "    y = ratings_train.rating.values - mu,\n",
    "    epochs = 60,\n",
    "    batch_size = 256,\n",
    "    validation_data = (\n",
    "        [ratings_test.user_id.values, ratings_test.movie_id.values],\n",
    "        ratings_test.rating.values - mu\n",
    "    )\n",
    ")"
   ]
  },
  {
   "cell_type": "code",
   "execution_count": 9,
   "metadata": {},
   "outputs": [
    {
     "data": {
      "image/png": "[encoded data removed]",
      "text/plain": [
       "<Figure size 640x480 with 1 Axes>"
      ]
     },
     "metadata": {},
     "output_type": "display_data"
    }
   ],
   "source": [
    "# Plot RMSE\n",
    "import matplotlib.pyplot as plt\n",
    "plt.plot(result.history['RMSE'], label = 'Train RMSE')\n",
    "plt.plot(result.history['val_RMSE'], label = 'Test RMSE')\n",
    "plt.xlabel('epoch')\n",
    "plt.ylabel('RMSE')\n",
    "plt.legend()\n",
    "plt.show()"
   ]
  },
  {
   "cell_type": "code",
   "execution_count": 11,
   "metadata": {},
   "outputs": [
    {
     "name": "stdout",
     "output_type": "stream",
     "text": [
      "1/1 [==============================] - 0s 25ms/step\n",
      "Actuals : \n",
      "        user_id  movie_id  rating\n",
      "82365      933       176       3\n",
      "53333      648        17       2\n",
      "8144        70       472       3\n",
      "71653      796      1303       2\n",
      "86579      708       225       2\n",
      "34485      392       173       4\n",
      "\n",
      "Predictions : \n",
      " [[3.5113113]\n",
      " [3.4877787]\n",
      " [3.4967175]\n",
      " [3.5339153]\n",
      " [3.484677 ]\n",
      " [3.6283557]]\n"
     ]
    }
   ],
   "source": [
    "# Prediction\n",
    "user_ids = ratings_test.user_id.values[0:6]\n",
    "movie_ids = ratings_test.movie_id.values[0:6]\n",
    "predictions = model.predict([user_ids, movie_ids]) + mu\n",
    "print('Actuals : \\n', ratings_test[0:6])\n",
    "print()\n",
    "print('Predictions : \\n', predictions)"
   ]
  },
  {
   "cell_type": "code",
   "execution_count": 22,
   "metadata": {},
   "outputs": [
    {
     "name": "stdout",
     "output_type": "stream",
     "text": [
      "782/782 [==============================] - 1s 1ms/step\n"
     ]
    },
    {
     "data": {
      "text/plain": [
       "1.1000123266395634"
      ]
     },
     "execution_count": 22,
     "metadata": {},
     "output_type": "execute_result"
    }
   ],
   "source": [
    "# RMSE check\n",
    "def RMSE2(y_true, y_pred):\n",
    "    return np.sqrt(np.mean((np.array(y_true) - np.array(y_pred))**2))\n",
    "\n",
    "user_ids = ratings_test.user_id.values\n",
    "movie_ids = ratings_test.movie_id.values\n",
    "y_pred = model.predict([user_ids, movie_ids]) + mu\n",
    "y_pred = np.ravel(y_pred, order = 'C')\n",
    "y_true = np.array(ratings_test.rating)\n",
    "\n",
    "RMSE2(y_true, y_pred)"
   ]
  },
  {
   "cell_type": "markdown",
   "metadata": {},
   "source": [
    "### 7.3 딥러닝을 적용한 추천 시스템"
   ]
  },
  {
   "cell_type": "code",
   "execution_count": 26,
   "metadata": {},
   "outputs": [],
   "source": [
    "# Variable 초기화\n",
    "K = 200 # Latent factor 수\n",
    "mu = ratings_train.rating.mean()    # 전체 평균\n",
    "M = ratings.user_id.max() + 1   # number of users\n",
    "N = ratings.movie_id.max() + 1  # number of movies\n",
    "\n",
    "# Keras model\n",
    "user = Input(shape = (1,))  # User input\n",
    "item = Input(shape = (1,))  # Item input\n",
    "P_embedding = Embedding(M, K, embeddings_regularizer = l2())(user)  # (M, 1, K)\n",
    "Q_embedding = Embedding(N, K, embeddings_regularizer = l2())(item)  # (N, 1, K)\n",
    "user_bias = Embedding(M, 1, embeddings_regularizer=l2())(user) # User bias term (M, 1, )\n",
    "item_bias = Embedding(N, 1, embeddings_regularizer=l2())(item) # Item bias term (N, 1, )\n",
    "\n",
    "# Concatenate layers\n",
    "from tensorflow.keras.layers import Dense, Concatenate, Activation\n",
    "P_embedding = Flatten()(P_embedding)    # (K, )\n",
    "Q_embedding = Flatten()(Q_embedding)    # (K, )\n",
    "user_bias = Flatten()(user_bias)    # (1, )\n",
    "item_bias = Flatten()(item_bias)    # (1, )\n",
    "R = Concatenate()([P_embedding, Q_embedding, user_bias, item_bias]) # (2K + 2, )"
   ]
  },
  {
   "cell_type": "code",
   "execution_count": 27,
   "metadata": {},
   "outputs": [
    {
     "name": "stdout",
     "output_type": "stream",
     "text": [
      "Model: \"model_1\"\n",
      "__________________________________________________________________________________________________\n",
      " Layer (type)                Output Shape                 Param #   Connected to                  \n",
      "==================================================================================================\n",
      " input_10 (InputLayer)       [(None, 1)]                  0         []                            \n",
      "                                                                                                  \n",
      " input_11 (InputLayer)       [(None, 1)]                  0         []                            \n",
      "                                                                                                  \n",
      " embedding_13 (Embedding)    (None, 1, 200)               188800    ['input_10[0][0]']            \n",
      "                                                                                                  \n",
      " embedding_14 (Embedding)    (None, 1, 200)               336600    ['input_11[0][0]']            \n",
      "                                                                                                  \n",
      " embedding_15 (Embedding)    (None, 1, 1)                 944       ['input_10[0][0]']            \n",
      "                                                                                                  \n",
      " embedding_16 (Embedding)    (None, 1, 1)                 1683      ['input_11[0][0]']            \n"
     ]
    },
    {
     "name": "stdout",
     "output_type": "stream",
     "text": [
      "                                                                                                  \n",
      " flatten_6 (Flatten)         (None, 200)                  0         ['embedding_13[0][0]']        \n",
      "                                                                                                  \n",
      " flatten_7 (Flatten)         (None, 200)                  0         ['embedding_14[0][0]']        \n",
      "                                                                                                  \n",
      " flatten_8 (Flatten)         (None, 1)                    0         ['embedding_15[0][0]']        \n",
      "                                                                                                  \n",
      " flatten_9 (Flatten)         (None, 1)                    0         ['embedding_16[0][0]']        \n",
      "                                                                                                  \n",
      " concatenate_1 (Concatenate  (None, 402)                  0         ['flatten_6[0][0]',           \n",
      " )                                                                   'flatten_7[0][0]',           \n",
      "                                                                     'flatten_8[0][0]',           \n",
      "                                                                     'flatten_9[0][0]']           \n",
      "                                                                                                  \n",
      " dense_1 (Dense)             (None, 2048)                 825344    ['concatenate_1[0][0]']       \n",
      "                                                                                                  \n",
      " activation (Activation)     (None, 2048)                 0         ['dense_1[0][0]']             \n",
      "                                                                                                  \n",
      " dense_2 (Dense)             (None, 256)                  524544    ['activation[0][0]']          \n",
      "                                                                                                  \n",
      " activation_1 (Activation)   (None, 256)                  0         ['dense_2[0][0]']             \n",
      "                                                                                                  \n",
      " dense_3 (Dense)             (None, 1)                    257       ['activation_1[0][0]']        \n",
      "                                                                                                  \n",
      "==================================================================================================\n",
      "Total params: 1878172 (7.16 MB)\n",
      "Trainable params: 1878172 (7.16 MB)\n",
      "Non-trainable params: 0 (0.00 Byte)\n",
      "__________________________________________________________________________________________________\n"
     ]
    }
   ],
   "source": [
    "# Neural network\n",
    "R = Dense(2048)(R)\n",
    "R = Activation('relu')(R)\n",
    "R = Dense(256)(R)\n",
    "R = Activation('linear')(R)\n",
    "R = Dense(1)(R)\n",
    "\n",
    "model = Model(inputs = [user, item], outputs = R)\n",
    "model.compile(\n",
    "    loss = RMSE,\n",
    "    optimizer = SGD(), # Adamax()\n",
    "    metrics = [RMSE]\n",
    ")\n",
    "model.summary()"
   ]
  },
  {
   "cell_type": "code",
   "execution_count": 28,
   "metadata": {},
   "outputs": [
    {
     "name": "stdout",
     "output_type": "stream",
     "text": [
      "Epoch 1/65\n",
      "147/147 [==============================] - 4s 25ms/step - loss: 5.3899 - RMSE: 1.1245 - val_loss: 5.2671 - val_RMSE: 1.1272\n",
      "Epoch 2/65\n",
      "147/147 [==============================] - 4s 24ms/step - loss: 5.1455 - RMSE: 1.1236 - val_loss: 5.0299 - val_RMSE: 1.1264\n",
      "Epoch 3/65\n",
      "147/147 [==============================] - 3s 23ms/step - loss: 4.9150 - RMSE: 1.1225 - val_loss: 4.8062 - val_RMSE: 1.1256\n",
      "Epoch 4/65\n",
      "147/147 [==============================] - 3s 22ms/step - loss: 4.6976 - RMSE: 1.1219 - val_loss: 4.5953 - val_RMSE: 1.1249\n",
      "Epoch 5/65\n",
      "147/147 [==============================] - 3s 22ms/step - loss: 4.4928 - RMSE: 1.1213 - val_loss: 4.3964 - val_RMSE: 1.1241\n",
      "Epoch 6/65\n",
      "147/147 [==============================] - 3s 22ms/step - loss: 4.2995 - RMSE: 1.1204 - val_loss: 4.2089 - val_RMSE: 1.1235\n",
      "Epoch 7/65\n",
      "147/147 [==============================] - 3s 22ms/step - loss: 4.1173 - RMSE: 1.1196 - val_loss: 4.0318 - val_RMSE: 1.1226\n",
      "Epoch 8/65\n",
      "147/147 [==============================] - 3s 22ms/step - loss: 3.9453 - RMSE: 1.1192 - val_loss: 3.8650 - val_RMSE: 1.1217\n",
      "Epoch 9/65\n",
      "147/147 [==============================] - 3s 23ms/step - loss: 3.7833 - RMSE: 1.1185 - val_loss: 3.7075 - val_RMSE: 1.1208\n",
      "Epoch 10/65\n",
      "147/147 [==============================] - 3s 23ms/step - loss: 3.6302 - RMSE: 1.1172 - val_loss: 3.5590 - val_RMSE: 1.1199\n",
      "Epoch 11/65\n",
      "147/147 [==============================] - 3s 23ms/step - loss: 3.4858 - RMSE: 1.1160 - val_loss: 3.4188 - val_RMSE: 1.1188\n",
      "Epoch 12/65\n",
      "147/147 [==============================] - 4s 24ms/step - loss: 3.3497 - RMSE: 1.1151 - val_loss: 3.2865 - val_RMSE: 1.1177\n",
      "Epoch 13/65\n",
      "147/147 [==============================] - 4s 26ms/step - loss: 3.2210 - RMSE: 1.1140 - val_loss: 3.1615 - val_RMSE: 1.1164\n",
      "Epoch 14/65\n",
      "147/147 [==============================] - 4s 26ms/step - loss: 3.0996 - RMSE: 1.1127 - val_loss: 3.0436 - val_RMSE: 1.1151\n",
      "Epoch 15/65\n",
      "147/147 [==============================] - 4s 26ms/step - loss: 2.9849 - RMSE: 1.1111 - val_loss: 2.9321 - val_RMSE: 1.1134\n",
      "Epoch 16/65\n",
      "147/147 [==============================] - 4s 26ms/step - loss: 2.8764 - RMSE: 1.1094 - val_loss: 2.8267 - val_RMSE: 1.1117\n",
      "Epoch 17/65\n",
      "147/147 [==============================] - 4s 26ms/step - loss: 2.7739 - RMSE: 1.1075 - val_loss: 2.7271 - val_RMSE: 1.1096\n",
      "Epoch 18/65\n",
      "147/147 [==============================] - 4s 26ms/step - loss: 2.6770 - RMSE: 1.1054 - val_loss: 2.6328 - val_RMSE: 1.1073\n",
      "Epoch 19/65\n",
      "147/147 [==============================] - 4s 26ms/step - loss: 2.5852 - RMSE: 1.1029 - val_loss: 2.5434 - val_RMSE: 1.1045\n",
      "Epoch 20/65\n",
      "147/147 [==============================] - 4s 26ms/step - loss: 2.4980 - RMSE: 1.1001 - val_loss: 2.4586 - val_RMSE: 1.1014\n",
      "Epoch 21/65\n",
      "147/147 [==============================] - 4s 26ms/step - loss: 2.4155 - RMSE: 1.0968 - val_loss: 2.3781 - val_RMSE: 1.0979\n",
      "Epoch 22/65\n",
      "147/147 [==============================] - 4s 26ms/step - loss: 2.3369 - RMSE: 1.0926 - val_loss: 2.3016 - val_RMSE: 1.0938\n",
      "Epoch 23/65\n",
      "147/147 [==============================] - 4s 26ms/step - loss: 2.2620 - RMSE: 1.0879 - val_loss: 2.2287 - val_RMSE: 1.0890\n",
      "Epoch 24/65\n",
      "147/147 [==============================] - 4s 26ms/step - loss: 2.1907 - RMSE: 1.0830 - val_loss: 2.1588 - val_RMSE: 1.0834\n",
      "Epoch 25/65\n",
      "147/147 [==============================] - 4s 26ms/step - loss: 2.1224 - RMSE: 1.0770 - val_loss: 2.0922 - val_RMSE: 1.0772\n",
      "Epoch 26/65\n",
      "147/147 [==============================] - 4s 26ms/step - loss: 2.0570 - RMSE: 1.0702 - val_loss: 2.0282 - val_RMSE: 1.0700\n",
      "Epoch 27/65\n",
      "147/147 [==============================] - 4s 26ms/step - loss: 1.9944 - RMSE: 1.0626 - val_loss: 1.9671 - val_RMSE: 1.0623\n",
      "Epoch 28/65\n",
      "147/147 [==============================] - 4s 26ms/step - loss: 1.9341 - RMSE: 1.0540 - val_loss: 1.9081 - val_RMSE: 1.0536\n",
      "Epoch 29/65\n",
      "147/147 [==============================] - 4s 26ms/step - loss: 1.8763 - RMSE: 1.0453 - val_loss: 1.8516 - val_RMSE: 1.0443\n",
      "Epoch 30/65\n",
      "147/147 [==============================] - 4s 26ms/step - loss: 1.8207 - RMSE: 1.0352 - val_loss: 1.7976 - val_RMSE: 1.0348\n",
      "Epoch 31/65\n",
      "147/147 [==============================] - 4s 26ms/step - loss: 1.7677 - RMSE: 1.0257 - val_loss: 1.7462 - val_RMSE: 1.0252\n",
      "Epoch 32/65\n",
      "147/147 [==============================] - 4s 26ms/step - loss: 1.7171 - RMSE: 1.0157 - val_loss: 1.6983 - val_RMSE: 1.0168\n",
      "Epoch 33/65\n",
      "147/147 [==============================] - 4s 26ms/step - loss: 1.6694 - RMSE: 1.0063 - val_loss: 1.6516 - val_RMSE: 1.0072\n",
      "Epoch 34/65\n",
      "147/147 [==============================] - 4s 26ms/step - loss: 1.6243 - RMSE: 0.9973 - val_loss: 1.6085 - val_RMSE: 0.9991\n",
      "Epoch 35/65\n",
      "147/147 [==============================] - 4s 25ms/step - loss: 1.5820 - RMSE: 0.9888 - val_loss: 1.5683 - val_RMSE: 0.9920\n",
      "Epoch 36/65\n",
      "147/147 [==============================] - 4s 26ms/step - loss: 1.5422 - RMSE: 0.9815 - val_loss: 1.5308 - val_RMSE: 0.9857\n",
      "Epoch 37/65\n",
      "147/147 [==============================] - 4s 26ms/step - loss: 1.5053 - RMSE: 0.9749 - val_loss: 1.4955 - val_RMSE: 0.9800\n",
      "Epoch 38/65\n",
      "147/147 [==============================] - 4s 26ms/step - loss: 1.4706 - RMSE: 0.9691 - val_loss: 1.4631 - val_RMSE: 0.9755\n",
      "Epoch 39/65\n",
      "147/147 [==============================] - 4s 26ms/step - loss: 1.4382 - RMSE: 0.9635 - val_loss: 1.4319 - val_RMSE: 0.9708\n",
      "Epoch 40/65\n",
      "147/147 [==============================] - 4s 26ms/step - loss: 1.4080 - RMSE: 0.9591 - val_loss: 1.4048 - val_RMSE: 0.9686\n",
      "Epoch 41/65\n",
      "147/147 [==============================] - 4s 26ms/step - loss: 1.3796 - RMSE: 0.9552 - val_loss: 1.3765 - val_RMSE: 0.9639\n",
      "Epoch 42/65\n",
      "147/147 [==============================] - 4s 26ms/step - loss: 1.3527 - RMSE: 0.9514 - val_loss: 1.3512 - val_RMSE: 0.9609\n",
      "Epoch 43/65\n",
      "147/147 [==============================] - 4s 26ms/step - loss: 1.3279 - RMSE: 0.9482 - val_loss: 1.3276 - val_RMSE: 0.9583\n",
      "Epoch 44/65\n",
      "147/147 [==============================] - 4s 26ms/step - loss: 1.3046 - RMSE: 0.9451 - val_loss: 1.3064 - val_RMSE: 0.9571\n",
      "Epoch 45/65\n",
      "147/147 [==============================] - 4s 26ms/step - loss: 1.2823 - RMSE: 0.9421 - val_loss: 1.2881 - val_RMSE: 0.9576\n",
      "Epoch 46/65\n",
      "147/147 [==============================] - 4s 26ms/step - loss: 1.2618 - RMSE: 0.9404 - val_loss: 1.2673 - val_RMSE: 0.9545\n",
      "Epoch 47/65\n",
      "147/147 [==============================] - 4s 27ms/step - loss: 1.2424 - RMSE: 0.9379 - val_loss: 1.2471 - val_RMSE: 0.9511\n",
      "Epoch 48/65\n",
      "147/147 [==============================] - 4s 26ms/step - loss: 1.2241 - RMSE: 0.9358 - val_loss: 1.2305 - val_RMSE: 0.9502\n",
      "Epoch 49/65\n",
      "147/147 [==============================] - 4s 27ms/step - loss: 1.2072 - RMSE: 0.9344 - val_loss: 1.2133 - val_RMSE: 0.9479\n",
      "Epoch 50/65\n",
      "147/147 [==============================] - 4s 27ms/step - loss: 1.1910 - RMSE: 0.9325 - val_loss: 1.1979 - val_RMSE: 0.9466\n",
      "Epoch 51/65\n",
      "147/147 [==============================] - 4s 27ms/step - loss: 1.1757 - RMSE: 0.9312 - val_loss: 1.1835 - val_RMSE: 0.9455\n",
      "Epoch 52/65\n",
      "147/147 [==============================] - 4s 28ms/step - loss: 1.1615 - RMSE: 0.9298 - val_loss: 1.1700 - val_RMSE: 0.9447\n",
      "Epoch 53/65\n",
      "147/147 [==============================] - 4s 27ms/step - loss: 1.1484 - RMSE: 0.9288 - val_loss: 1.1576 - val_RMSE: 0.9441\n",
      "Epoch 54/65\n",
      "147/147 [==============================] - 4s 28ms/step - loss: 1.1357 - RMSE: 0.9278 - val_loss: 1.1477 - val_RMSE: 0.9454\n",
      "Epoch 55/65\n",
      "147/147 [==============================] - 4s 28ms/step - loss: 1.1238 - RMSE: 0.9264 - val_loss: 1.1354 - val_RMSE: 0.9437\n",
      "Epoch 56/65\n",
      "147/147 [==============================] - 4s 28ms/step - loss: 1.1128 - RMSE: 0.9262 - val_loss: 1.1238 - val_RMSE: 0.9421\n",
      "Epoch 57/65\n",
      "147/147 [==============================] - 4s 28ms/step - loss: 1.1024 - RMSE: 0.9254 - val_loss: 1.1136 - val_RMSE: 0.9413\n",
      "Epoch 58/65\n",
      "147/147 [==============================] - 4s 28ms/step - loss: 1.0925 - RMSE: 0.9246 - val_loss: 1.1041 - val_RMSE: 0.9408\n",
      "Epoch 59/65\n",
      "147/147 [==============================] - 4s 30ms/step - loss: 1.0833 - RMSE: 0.9240 - val_loss: 1.0982 - val_RMSE: 0.9433\n",
      "Epoch 60/65\n",
      "147/147 [==============================] - 5s 37ms/step - loss: 1.0747 - RMSE: 0.9235 - val_loss: 1.0867 - val_RMSE: 0.9397\n",
      "Epoch 61/65\n",
      "147/147 [==============================] - 4s 30ms/step - loss: 1.0663 - RMSE: 0.9228 - val_loss: 1.0798 - val_RMSE: 0.9404\n",
      "Epoch 62/65\n",
      "147/147 [==============================] - 4s 30ms/step - loss: 1.0587 - RMSE: 0.9229 - val_loss: 1.0717 - val_RMSE: 0.9394\n",
      "Epoch 63/65\n",
      "147/147 [==============================] - 4s 30ms/step - loss: 1.0514 - RMSE: 0.9227 - val_loss: 1.0646 - val_RMSE: 0.9391\n",
      "Epoch 64/65\n",
      "147/147 [==============================] - 5s 31ms/step - loss: 1.0447 - RMSE: 0.9225 - val_loss: 1.0580 - val_RMSE: 0.9388\n",
      "Epoch 65/65\n",
      "147/147 [==============================] - 5s 32ms/step - loss: 1.0383 - RMSE: 0.9219 - val_loss: 1.0567 - val_RMSE: 0.9434\n"
     ]
    }
   ],
   "source": [
    "# Model fitting\n",
    "result = model.fit(\n",
    "  x=[ratings_train.user_id.values, ratings_train.movie_id.values],\n",
    "  y=ratings_train.rating.values - mu,\n",
    "  epochs=65,\n",
    "  batch_size=512,\n",
    "  validation_data=(\n",
    "    [ratings_test.user_id.values, ratings_test.movie_id.values],\n",
    "    ratings_test.rating.values - mu\n",
    "  )\n",
    ")"
   ]
  },
  {
   "cell_type": "code",
   "execution_count": 29,
   "metadata": {},
   "outputs": [
    {
     "data": {
      "image/png": "[encoded data removed]",
      "text/plain": [
       "<Figure size 640x480 with 1 Axes>"
      ]
     },
     "metadata": {},
     "output_type": "display_data"
    }
   ],
   "source": [
    "# Plot RMSE\n",
    "import matplotlib.pyplot as plt\n",
    "plt.plot(result.history['RMSE'], label = 'Train RMSE')\n",
    "plt.plot(result.history['val_RMSE'], label = \"Test RMSE\")\n",
    "plt.xlabel('epoch')\n",
    "plt.ylabel('RMSE')\n",
    "plt.legend()\n",
    "plt.show()"
   ]
  },
  {
   "cell_type": "code",
   "execution_count": 30,
   "metadata": {},
   "outputs": [
    {
     "name": "stdout",
     "output_type": "stream",
     "text": [
      "1/1 [==============================] - 0s 80ms/step\n",
      "Actuals: \n",
      "        user_id  movie_id  rating\n",
      "82365      933       176       3\n",
      "53333      648        17       2\n",
      "8144        70       472       3\n",
      "71653      796      1303       2\n",
      "86579      708       225       2\n",
      "34485      392       173       4\n",
      "\n",
      "Predictions: \n",
      " [[3.0137322]\n",
      " [2.9952934]\n",
      " [2.8451087]\n",
      " [2.768748 ]\n",
      " [2.7437837]\n",
      " [4.269826 ]]\n"
     ]
    }
   ],
   "source": [
    "# Prediction\n",
    "user_ids = ratings_test.user_id.values[0:6]\n",
    "movie_ids = ratings_test.movie_id.values[0:6]\n",
    "predictions = model.predict([user_ids, movie_ids]) + mu\n",
    "print(\"Actuals: \\n\", ratings_test[0:6])\n",
    "print()\n",
    "print(\"Predictions: \\n\", predictions)"
   ]
  },
  {
   "cell_type": "code",
   "execution_count": 31,
   "metadata": {},
   "outputs": [
    {
     "name": "stdout",
     "output_type": "stream",
     "text": [
      "782/782 [==============================] - 2s 3ms/step\n"
     ]
    },
    {
     "data": {
      "text/plain": [
       "0.9439129247995828"
      ]
     },
     "execution_count": 31,
     "metadata": {},
     "output_type": "execute_result"
    }
   ],
   "source": [
    "# 정확도(RMSE)를 계산하는 함수 \n",
    "def RMSE2(y_true, y_pred):\n",
    "    return np.sqrt(np.mean((np.array(y_true) - np.array(y_pred))**2))\n",
    "\n",
    "user_ids = ratings_test.user_id.values\n",
    "movie_ids = ratings_test.movie_id.values\n",
    "y_pred = model.predict([user_ids, movie_ids]) + mu\n",
    "y_pred = np.ravel(y_pred, order='C')\n",
    "y_true = np.array(ratings_test.rating)\n",
    "\n",
    "RMSE2(y_true, y_pred)"
   ]
  },
  {
   "cell_type": "markdown",
   "metadata": {},
   "source": [
    "### 7.4 딥러닝 모델에 변수 추가하기"
   ]
  },
  {
   "cell_type": "markdown",
   "metadata": {},
   "source": [
    "지금까지의 딥러닝 모델은 아이템의 평점만 사용하였는데 딥러닝 신경망은 필요하면 다양한 변수를 추가할 수 있다.  \n",
    "여기서는 직업을 추가로 사용하기로 한다."
   ]
  },
  {
   "cell_type": "code",
   "execution_count": 39,
   "metadata": {},
   "outputs": [],
   "source": [
    "u_cols = ['user_id', 'age', 'sex', 'occupation', 'zip_code']\n",
    "users = pd.read_csv('./data/u.user', sep = '|', names = u_cols)\n",
    "users = users[['user_id', 'occupation']]\n",
    "\n",
    "# Convert occupation(string to integer)\n",
    "occupation = {}\n",
    "def convert_occ(x):\n",
    "    if x in occupation:\n",
    "        return occupation[x]\n",
    "    else:\n",
    "        occupation[x] = len(occupation)\n",
    "        return occupation[x]\n",
    "users['occupation'] = users['occupation'].apply(convert_occ)\n",
    "\n",
    "L = len(occupation)\n",
    "train_occ = pd.merge(ratings_train, users, on = 'user_id')['occupation']\n",
    "test_occ = pd.merge(ratings_test, users, on = 'user_id')['occupation']"
   ]
  },
  {
   "cell_type": "code",
   "execution_count": 40,
   "metadata": {},
   "outputs": [],
   "source": [
    "# Variable 초기화 \n",
    "K = 200                             # Latent factor 수 \n",
    "mu = ratings_train.rating.mean()    # 전체 평균 \n",
    "M = ratings.user_id.max() + 1       # Number of users\n",
    "N = ratings.movie_id.max() + 1      # Number of movies\n",
    "\n",
    "# Defining RMSE measure\n",
    "def RMSE(y_true, y_pred):\n",
    "    return tf.sqrt(tf.reduce_mean(tf.square(y_true - y_pred)))\n",
    "\n",
    "##### (2)\n",
    "\n",
    "# Keras model\n",
    "user = Input(shape=(1, ))\n",
    "item = Input(shape=(1, ))\n",
    "P_embedding = Embedding(M, K, embeddings_regularizer=l2())(user)\n",
    "Q_embedding = Embedding(N, K, embeddings_regularizer=l2())(item)\n",
    "user_bias = Embedding(M, 1, embeddings_regularizer=l2())(user)\n",
    "item_bias = Embedding(N, 1, embeddings_regularizer=l2())(item)\n",
    "\n",
    "# Concatenate layers\n",
    "from tensorflow.keras.layers import Dense, Concatenate, Activation\n",
    "P_embedding = Flatten()(P_embedding)\n",
    "Q_embedding = Flatten()(Q_embedding)\n",
    "user_bias = Flatten()(user_bias)\n",
    "item_bias = Flatten()(item_bias)"
   ]
  },
  {
   "cell_type": "code",
   "execution_count": 41,
   "metadata": {},
   "outputs": [],
   "source": [
    "occ = Input(shape = (1, ))\n",
    "occ_embedding = Embedding(L, 3, embeddings_regularizer=l2())(occ)\n",
    "occ_layer = Flatten()(occ_embedding)\n",
    "R = Concatenate()([P_embedding, Q_embedding, user_bias, item_bias, occ_layer])"
   ]
  },
  {
   "cell_type": "code",
   "execution_count": 42,
   "metadata": {},
   "outputs": [],
   "source": [
    "# Neural network\n",
    "R = Dense(2048)(R)\n",
    "R = Activation('relu')(R)\n",
    "R = Dense(256)(R)\n",
    "R = Activation('linear')(R)\n",
    "R = Dense(1)(R)"
   ]
  },
  {
   "cell_type": "code",
   "execution_count": 43,
   "metadata": {},
   "outputs": [
    {
     "name": "stdout",
     "output_type": "stream",
     "text": [
      "Model: \"model_2\"\n",
      "__________________________________________________________________________________________________\n",
      " Layer (type)                Output Shape                 Param #   Connected to                  \n",
      "==================================================================================================\n",
      " input_16 (InputLayer)       [(None, 1)]                  0         []                            \n",
      "                                                                                                  \n",
      " input_17 (InputLayer)       [(None, 1)]                  0         []                            \n",
      "                                                                                                  \n",
      " input_18 (InputLayer)       [(None, 1)]                  0         []                            \n",
      "                                                                                                  \n",
      " embedding_25 (Embedding)    (None, 1, 200)               188800    ['input_16[0][0]']            \n",
      "                                                                                                  \n",
      " embedding_26 (Embedding)    (None, 1, 200)               336600    ['input_17[0][0]']            \n",
      "                                                                                                  \n",
      " embedding_27 (Embedding)    (None, 1, 1)                 944       ['input_16[0][0]']            \n",
      "                                                                                                  \n",
      " embedding_28 (Embedding)    (None, 1, 1)                 1683      ['input_17[0][0]']            \n",
      "                                                                                                  \n",
      " embedding_29 (Embedding)    (None, 1, 3)                 63        ['input_18[0][0]']            \n",
      "                                                                                                  \n",
      " flatten_18 (Flatten)        (None, 200)                  0         ['embedding_25[0][0]']        \n",
      "                                                                                                  \n",
      " flatten_19 (Flatten)        (None, 200)                  0         ['embedding_26[0][0]']        \n",
      "                                                                                                  \n",
      " flatten_20 (Flatten)        (None, 1)                    0         ['embedding_27[0][0]']        \n",
      "                                                                                                  \n",
      " flatten_21 (Flatten)        (None, 1)                    0         ['embedding_28[0][0]']        \n",
      "                                                                                                  \n",
      " flatten_22 (Flatten)        (None, 3)                    0         ['embedding_29[0][0]']        \n",
      "                                                                                                  \n",
      " concatenate_2 (Concatenate  (None, 405)                  0         ['flatten_18[0][0]',          \n",
      " )                                                                   'flatten_19[0][0]',          \n",
      "                                                                     'flatten_20[0][0]',          \n",
      "                                                                     'flatten_21[0][0]',          \n",
      "                                                                     'flatten_22[0][0]']          \n",
      "                                                                                                  \n",
      " dense_4 (Dense)             (None, 2048)                 831488    ['concatenate_2[0][0]']       \n",
      "                                                                                                  \n",
      " activation_2 (Activation)   (None, 2048)                 0         ['dense_4[0][0]']             \n",
      "                                                                                                  \n",
      " dense_5 (Dense)             (None, 256)                  524544    ['activation_2[0][0]']        \n",
      "                                                                                                  \n",
      " activation_3 (Activation)   (None, 256)                  0         ['dense_5[0][0]']             \n",
      "                                                                                                  \n",
      " dense_6 (Dense)             (None, 1)                    257       ['activation_3[0][0]']        \n",
      "                                                                                                  \n",
      "==================================================================================================\n",
      "Total params: 1884379 (7.19 MB)\n",
      "Trainable params: 1884379 (7.19 MB)\n",
      "Non-trainable params: 0 (0.00 Byte)\n",
      "__________________________________________________________________________________________________\n"
     ]
    }
   ],
   "source": [
    "model = Model(inputs = [user, item, occ], outputs = R)\n",
    "model.compile(\n",
    "    loss = RMSE,\n",
    "    optimizer = SGD(), # Adamax()\n",
    "    metrics = [RMSE]\n",
    ")\n",
    "model.summary()"
   ]
  },
  {
   "cell_type": "code",
   "execution_count": 44,
   "metadata": {},
   "outputs": [
    {
     "name": "stdout",
     "output_type": "stream",
     "text": [
      "Epoch 1/65\n",
      "147/147 [==============================] - 5s 26ms/step - loss: 5.4046 - RMSE: 1.1240 - val_loss: 5.2816 - val_RMSE: 1.1271\n",
      "Epoch 2/65\n",
      "147/147 [==============================] - 4s 26ms/step - loss: 5.1592 - RMSE: 1.1237 - val_loss: 5.0436 - val_RMSE: 1.1264\n",
      "Epoch 3/65\n",
      "147/147 [==============================] - 4s 26ms/step - loss: 4.9280 - RMSE: 1.1222 - val_loss: 4.8191 - val_RMSE: 1.1256\n",
      "Epoch 4/65\n",
      "147/147 [==============================] - 3s 23ms/step - loss: 4.7099 - RMSE: 1.1212 - val_loss: 4.6074 - val_RMSE: 1.1248\n",
      "Epoch 5/65\n",
      "147/147 [==============================] - 3s 22ms/step - loss: 4.5042 - RMSE: 1.1208 - val_loss: 4.4079 - val_RMSE: 1.1241\n",
      "Epoch 6/65\n",
      "147/147 [==============================] - 3s 22ms/step - loss: 4.3103 - RMSE: 1.1200 - val_loss: 4.2196 - val_RMSE: 1.1233\n",
      "Epoch 7/65\n",
      "147/147 [==============================] - 3s 22ms/step - loss: 4.1275 - RMSE: 1.1195 - val_loss: 4.0421 - val_RMSE: 1.1225\n",
      "Epoch 8/65\n",
      "147/147 [==============================] - 3s 22ms/step - loss: 3.9548 - RMSE: 1.1182 - val_loss: 3.8747 - val_RMSE: 1.1218\n",
      "Epoch 9/65\n",
      "147/147 [==============================] - 3s 22ms/step - loss: 3.7921 - RMSE: 1.1178 - val_loss: 3.7166 - val_RMSE: 1.1208\n",
      "Epoch 10/65\n",
      "147/147 [==============================] - 3s 22ms/step - loss: 3.6385 - RMSE: 1.1165 - val_loss: 3.5675 - val_RMSE: 1.1198\n",
      "Epoch 11/65\n",
      "147/147 [==============================] - 3s 24ms/step - loss: 3.4938 - RMSE: 1.1156 - val_loss: 3.4269 - val_RMSE: 1.1188\n",
      "Epoch 12/65\n",
      "147/147 [==============================] - 4s 27ms/step - loss: 3.3570 - RMSE: 1.1145 - val_loss: 3.2942 - val_RMSE: 1.1177\n",
      "Epoch 13/65\n",
      "147/147 [==============================] - 4s 27ms/step - loss: 3.2279 - RMSE: 1.1133 - val_loss: 3.1687 - val_RMSE: 1.1164\n",
      "Epoch 14/65\n",
      "147/147 [==============================] - 4s 26ms/step - loss: 3.1060 - RMSE: 1.1121 - val_loss: 3.0503 - val_RMSE: 1.1149\n",
      "Epoch 15/65\n",
      "147/147 [==============================] - 4s 26ms/step - loss: 2.9909 - RMSE: 1.1105 - val_loss: 2.9385 - val_RMSE: 1.1134\n",
      "Epoch 16/65\n",
      "147/147 [==============================] - 4s 27ms/step - loss: 2.8820 - RMSE: 1.1085 - val_loss: 2.8327 - val_RMSE: 1.1115\n",
      "Epoch 17/65\n",
      "147/147 [==============================] - 4s 26ms/step - loss: 2.7790 - RMSE: 1.1068 - val_loss: 2.7327 - val_RMSE: 1.1094\n",
      "Epoch 18/65\n",
      "147/147 [==============================] - 4s 26ms/step - loss: 2.6817 - RMSE: 1.1042 - val_loss: 2.6380 - val_RMSE: 1.1070\n",
      "Epoch 19/65\n",
      "147/147 [==============================] - 4s 27ms/step - loss: 2.5893 - RMSE: 1.1016 - val_loss: 2.5482 - val_RMSE: 1.1042\n",
      "Epoch 20/65\n",
      "147/147 [==============================] - 4s 27ms/step - loss: 2.5019 - RMSE: 1.0987 - val_loss: 2.4631 - val_RMSE: 1.1010\n",
      "Epoch 21/65\n",
      "147/147 [==============================] - 4s 26ms/step - loss: 2.4189 - RMSE: 1.0953 - val_loss: 2.3823 - val_RMSE: 1.0973\n",
      "Epoch 22/65\n",
      "147/147 [==============================] - 4s 26ms/step - loss: 2.3399 - RMSE: 1.0914 - val_loss: 2.3054 - val_RMSE: 1.0931\n",
      "Epoch 23/65\n",
      "147/147 [==============================] - 4s 27ms/step - loss: 2.2646 - RMSE: 1.0866 - val_loss: 2.2319 - val_RMSE: 1.0881\n",
      "Epoch 24/65\n",
      "147/147 [==============================] - 4s 27ms/step - loss: 2.1928 - RMSE: 1.0811 - val_loss: 2.1618 - val_RMSE: 1.0824\n",
      "Epoch 25/65\n",
      "147/147 [==============================] - 4s 27ms/step - loss: 2.1241 - RMSE: 1.0745 - val_loss: 2.0947 - val_RMSE: 1.0759\n",
      "Epoch 26/65\n",
      "147/147 [==============================] - 4s 26ms/step - loss: 2.0583 - RMSE: 1.0680 - val_loss: 2.0305 - val_RMSE: 1.0686\n",
      "Epoch 27/65\n",
      "147/147 [==============================] - 4s 26ms/step - loss: 1.9951 - RMSE: 1.0597 - val_loss: 1.9688 - val_RMSE: 1.0606\n",
      "Epoch 28/65\n",
      "147/147 [==============================] - 4s 26ms/step - loss: 1.9344 - RMSE: 1.0512 - val_loss: 1.9096 - val_RMSE: 1.0518\n",
      "Epoch 29/65\n",
      "147/147 [==============================] - 4s 26ms/step - loss: 1.8762 - RMSE: 1.0421 - val_loss: 1.8530 - val_RMSE: 1.0427\n",
      "Epoch 30/65\n",
      "147/147 [==============================] - 4s 26ms/step - loss: 1.8206 - RMSE: 1.0324 - val_loss: 1.7988 - val_RMSE: 1.0330\n",
      "Epoch 31/65\n",
      "147/147 [==============================] - 4s 27ms/step - loss: 1.7673 - RMSE: 1.0219 - val_loss: 1.7474 - val_RMSE: 1.0236\n",
      "Epoch 32/65\n",
      "147/147 [==============================] - 4s 26ms/step - loss: 1.7167 - RMSE: 1.0127 - val_loss: 1.6987 - val_RMSE: 1.0145\n",
      "Epoch 33/65\n",
      "147/147 [==============================] - 4s 26ms/step - loss: 1.6689 - RMSE: 1.0032 - val_loss: 1.6528 - val_RMSE: 1.0058\n",
      "Epoch 34/65\n",
      "147/147 [==============================] - 4s 26ms/step - loss: 1.6240 - RMSE: 0.9945 - val_loss: 1.6103 - val_RMSE: 0.9986\n",
      "Epoch 35/65\n",
      "147/147 [==============================] - 4s 26ms/step - loss: 1.5819 - RMSE: 0.9865 - val_loss: 1.5709 - val_RMSE: 0.9923\n",
      "Epoch 36/65\n",
      "147/147 [==============================] - 4s 27ms/step - loss: 1.5423 - RMSE: 0.9795 - val_loss: 1.5336 - val_RMSE: 0.9865\n",
      "Epoch 37/65\n",
      "147/147 [==============================] - 4s 27ms/step - loss: 1.5054 - RMSE: 0.9727 - val_loss: 1.4967 - val_RMSE: 0.9793\n",
      "Epoch 38/65\n",
      "147/147 [==============================] - 4s 26ms/step - loss: 1.4709 - RMSE: 0.9674 - val_loss: 1.4638 - val_RMSE: 0.9745\n",
      "Epoch 39/65\n",
      "147/147 [==============================] - 4s 26ms/step - loss: 1.4385 - RMSE: 0.9621 - val_loss: 1.4335 - val_RMSE: 0.9707\n",
      "Epoch 40/65\n",
      "147/147 [==============================] - 4s 27ms/step - loss: 1.4082 - RMSE: 0.9577 - val_loss: 1.4043 - val_RMSE: 0.9666\n",
      "Epoch 41/65\n",
      "147/147 [==============================] - 4s 26ms/step - loss: 1.3799 - RMSE: 0.9539 - val_loss: 1.3780 - val_RMSE: 0.9640\n",
      "Epoch 42/65\n",
      "147/147 [==============================] - 4s 27ms/step - loss: 1.3532 - RMSE: 0.9502 - val_loss: 1.3522 - val_RMSE: 0.9606\n",
      "Epoch 43/65\n",
      "147/147 [==============================] - 4s 26ms/step - loss: 1.3284 - RMSE: 0.9473 - val_loss: 1.3298 - val_RMSE: 0.9593\n",
      "Epoch 44/65\n",
      "147/147 [==============================] - 4s 26ms/step - loss: 1.3049 - RMSE: 0.9445 - val_loss: 1.3063 - val_RMSE: 0.9558\n",
      "Epoch 45/65\n",
      "147/147 [==============================] - 4s 26ms/step - loss: 1.2830 - RMSE: 0.9416 - val_loss: 1.2870 - val_RMSE: 0.9554\n",
      "Epoch 46/65\n",
      "147/147 [==============================] - 4s 26ms/step - loss: 1.2622 - RMSE: 0.9394 - val_loss: 1.2661 - val_RMSE: 0.9522\n",
      "Epoch 47/65\n",
      "147/147 [==============================] - 4s 30ms/step - loss: 1.2430 - RMSE: 0.9374 - val_loss: 1.2490 - val_RMSE: 0.9520\n",
      "Epoch 48/65\n",
      "147/147 [==============================] - 4s 28ms/step - loss: 1.2246 - RMSE: 0.9356 - val_loss: 1.2307 - val_RMSE: 0.9496\n",
      "Epoch 49/65\n",
      "147/147 [==============================] - 4s 27ms/step - loss: 1.2074 - RMSE: 0.9336 - val_loss: 1.2161 - val_RMSE: 0.9499\n",
      "Epoch 50/65\n",
      "147/147 [==============================] - 4s 27ms/step - loss: 1.1914 - RMSE: 0.9322 - val_loss: 1.2005 - val_RMSE: 0.9484\n",
      "Epoch 51/65\n",
      "147/147 [==============================] - 4s 26ms/step - loss: 1.1762 - RMSE: 0.9308 - val_loss: 1.1844 - val_RMSE: 0.9457\n",
      "Epoch 52/65\n",
      "147/147 [==============================] - 4s 26ms/step - loss: 1.1620 - RMSE: 0.9298 - val_loss: 1.1707 - val_RMSE: 0.9447\n",
      "Epoch 53/65\n",
      "147/147 [==============================] - 4s 26ms/step - loss: 1.1487 - RMSE: 0.9288 - val_loss: 1.1586 - val_RMSE: 0.9445\n",
      "Epoch 54/65\n",
      "147/147 [==============================] - 4s 26ms/step - loss: 1.1363 - RMSE: 0.9278 - val_loss: 1.1478 - val_RMSE: 0.9450\n",
      "Epoch 55/65\n",
      "147/147 [==============================] - 4s 27ms/step - loss: 1.1245 - RMSE: 0.9271 - val_loss: 1.1348 - val_RMSE: 0.9425\n",
      "Epoch 56/65\n",
      "147/147 [==============================] - 4s 30ms/step - loss: 1.1132 - RMSE: 0.9259 - val_loss: 1.1239 - val_RMSE: 0.9416\n",
      "Epoch 57/65\n",
      "147/147 [==============================] - 5s 36ms/step - loss: 1.1026 - RMSE: 0.9250 - val_loss: 1.1151 - val_RMSE: 0.9424\n",
      "Epoch 58/65\n",
      "147/147 [==============================] - 5s 31ms/step - loss: 1.0929 - RMSE: 0.9244 - val_loss: 1.1079 - val_RMSE: 0.9442\n",
      "Epoch 59/65\n",
      "147/147 [==============================] - 5s 32ms/step - loss: 1.0837 - RMSE: 0.9244 - val_loss: 1.0975 - val_RMSE: 0.9421\n",
      "Epoch 60/65\n",
      "147/147 [==============================] - 4s 27ms/step - loss: 1.0752 - RMSE: 0.9235 - val_loss: 1.0873 - val_RMSE: 0.9400\n",
      "Epoch 61/65\n",
      "147/147 [==============================] - 4s 28ms/step - loss: 1.0667 - RMSE: 0.9232 - val_loss: 1.0803 - val_RMSE: 0.9405\n",
      "Epoch 62/65\n",
      "147/147 [==============================] - 4s 28ms/step - loss: 1.0590 - RMSE: 0.9225 - val_loss: 1.0715 - val_RMSE: 0.9389\n",
      "Epoch 63/65\n",
      "147/147 [==============================] - 4s 29ms/step - loss: 1.0516 - RMSE: 0.9222 - val_loss: 1.0646 - val_RMSE: 0.9386\n",
      "Epoch 64/65\n",
      "147/147 [==============================] - 4s 29ms/step - loss: 1.0448 - RMSE: 0.9221 - val_loss: 1.0629 - val_RMSE: 0.9433\n",
      "Epoch 65/65\n",
      "147/147 [==============================] - 4s 30ms/step - loss: 1.0384 - RMSE: 0.9220 - val_loss: 1.0519 - val_RMSE: 0.9384\n"
     ]
    }
   ],
   "source": [
    "# Model fitting\n",
    "result = model.fit(\n",
    "  x=[ratings_train.user_id.values, ratings_train.movie_id.values, train_occ.values],\n",
    "  y=ratings_train.rating.values - mu,\n",
    "  epochs=65,\n",
    "  batch_size=512,\n",
    "  validation_data=(\n",
    "    [ratings_test.user_id.values, ratings_test.movie_id.values, test_occ.values],\n",
    "    ratings_test.rating.values - mu\n",
    "  )\n",
    ")"
   ]
  },
  {
   "cell_type": "code",
   "execution_count": 45,
   "metadata": {},
   "outputs": [
    {
     "data": {
      "image/png": "[encoded data removed]",
      "text/plain": [
       "<Figure size 640x480 with 1 Axes>"
      ]
     },
     "metadata": {},
     "output_type": "display_data"
    }
   ],
   "source": [
    "# Plot RMSE\n",
    "import matplotlib.pyplot as plt\n",
    "plt.plot(result.history['RMSE'], label=\"Train RMSE\")\n",
    "plt.plot(result.history['val_RMSE'], label=\"Test RMSE\")\n",
    "plt.xlabel('epoch')\n",
    "plt.ylabel('RMSE')\n",
    "plt.legend()\n",
    "plt.show()"
   ]
  },
  {
   "cell_type": "code",
   "execution_count": 46,
   "metadata": {},
   "outputs": [
    {
     "name": "stdout",
     "output_type": "stream",
     "text": [
      "1/1 [==============================] - 0s 104ms/step\n",
      "Actuals: \n",
      "        user_id  movie_id  rating\n",
      "82365      933       176       3\n",
      "53333      648        17       2\n",
      "8144        70       472       3\n",
      "71653      796      1303       2\n",
      "86579      708       225       2\n",
      "34485      392       173       4\n",
      "\n",
      "Predictions: \n",
      " [[3.1017382]\n",
      " [3.075525 ]\n",
      " [2.9590085]\n",
      " [2.8919256]\n",
      " [2.8673031]\n",
      " [4.4219213]]\n"
     ]
    }
   ],
   "source": [
    "# Prediction\n",
    "user_ids = ratings_test.user_id.values[0:6]\n",
    "movie_ids = ratings_test.movie_id.values[0:6]\n",
    "user_occ = test_occ[0:6]\n",
    "predictions = model.predict([user_ids, movie_ids, user_occ]) + mu\n",
    "print(\"Actuals: \\n\", ratings_test[0:6])\n",
    "print()\n",
    "print(\"Predictions: \\n\", predictions)"
   ]
  },
  {
   "cell_type": "code",
   "execution_count": 47,
   "metadata": {},
   "outputs": [
    {
     "name": "stdout",
     "output_type": "stream",
     "text": [
      "782/782 [==============================] - 2s 2ms/step\n"
     ]
    },
    {
     "data": {
      "text/plain": [
       "0.9388898937832153"
      ]
     },
     "execution_count": 47,
     "metadata": {},
     "output_type": "execute_result"
    }
   ],
   "source": [
    "# 정확도(RMSE)를 계산하는 함수 \n",
    "def RMSE2(y_true, y_pred):\n",
    "    return np.sqrt(np.mean((np.array(y_true) - np.array(y_pred))**2))\n",
    "\n",
    "user_ids = ratings_test.user_id.values\n",
    "movie_ids = ratings_test.movie_id.values\n",
    "y_pred = model.predict([user_ids, movie_ids, test_occ]) + mu\n",
    "y_pred = np.ravel(y_pred, order='C')\n",
    "y_true = np.array(ratings_test.rating)\n",
    "\n",
    "RMSE2(y_true, y_pred)"
   ]
  },
  {
   "cell_type": "code",
   "execution_count": null,
   "metadata": {},
   "outputs": [],
   "source": []
  }
 ],
 "metadata": {
  "kernelspec": {
   "display_name": "base",
   "language": "python",
   "name": "python3"
  },
  "language_info": {
   "codemirror_mode": {
    "name": "ipython",
    "version": 3
   },
   "file_extension": ".py",
   "mimetype": "text/x-python",
   "name": "python",
   "nbconvert_exporter": "python",
   "pygments_lexer": "ipython3",
   "version": "3.11.5"
  }
 },
 "nbformat": 4,
 "nbformat_minor": 2
}
